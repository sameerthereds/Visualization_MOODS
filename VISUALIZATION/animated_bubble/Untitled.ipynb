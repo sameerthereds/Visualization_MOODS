{
 "cells": [
  {
   "cell_type": "code",
   "execution_count": 12,
   "metadata": {},
   "outputs": [
    {
     "name": "stdout",
     "output_type": "stream",
     "text": [
      "['Household Chores' 'Lack of nutrition' 'Anxiety' 'Exam preparation'\n",
      " 'Assault']\n",
      "          Day Time of day Type of Day     Location          Stressors  \\\n",
      "0      Monday     Morning     Weekday         Home   Household Chores   \n",
      "1     Tuesday     Morning     Weekday         Home  Lack of nutrition   \n",
      "2   Wednesday     Morning     Weekday         Work            Anxiety   \n",
      "3    Thursday     Morning     Weekday         Home   Exam preparation   \n",
      "4      Friday     Morning     Weekday       Others  Lack of nutrition   \n",
      "5    Saturday     Morning     Weekend         Home   Exam preparation   \n",
      "6      Sunday     Morning     Weekend         Home            Assault   \n",
      "7      Monday   Afternoon     Weekday         Home            Anxiety   \n",
      "8     Tuesday   Afternoon     Weekday         Work   Household Chores   \n",
      "9   Wednesday   Afternoon     Weekday         Home            Assault   \n",
      "10   Thursday   Afternoon     Weekday         Home            Assault   \n",
      "11     Friday   Afternoon     Weekday         Work            Anxiety   \n",
      "12   Saturday   Afternoon     Weekend         Home  Lack of nutrition   \n",
      "13     Sunday   Afternoon     Weekend         Work   Exam preparation   \n",
      "14     Monday     Evening     Weekday         Work   Household Chores   \n",
      "15    Tuesday     Evening     Weekday         Home  Lack of nutrition   \n",
      "16  Wednesday     Evening     Weekday  On the road            Anxiety   \n",
      "17   Thursday     Evening     Weekday         Home            Assault   \n",
      "18     Friday     Evening     Weekday         Home            Assault   \n",
      "19   Saturday     Evening     Weekend         Work   Exam preparation   \n",
      "20     Sunday     Evening     Weekend         Home            Assault   \n",
      "\n",
      "    Frequency  Week  Week_int  \n",
      "0           1     1         1  \n",
      "1           2     1         2  \n",
      "2           3     1         3  \n",
      "3           2     1         4  \n",
      "4           1     1         5  \n",
      "5           1     1         6  \n",
      "6           3     1         7  \n",
      "7           4     1         1  \n",
      "8           2     1         2  \n",
      "9           1     1         3  \n",
      "10          3     1         4  \n",
      "11          1     1         5  \n",
      "12          2     1         6  \n",
      "13          1     1         7  \n",
      "14          2     1         1  \n",
      "15          1     1         2  \n",
      "16          2     1         3  \n",
      "17          4     1         4  \n",
      "18          3     1         5  \n",
      "19          3     1         6  \n",
      "20          1     1         7  \n"
     ]
    },
    {
     "data": {
      "image/png": "[encoded data removed]",
      "text/plain": [
       "<Figure size 432x288 with 1 Axes>"
      ]
     },
     "metadata": {},
     "output_type": "display_data"
    }
   ],
   "source": [
    "import matplotlib.pyplot as plt\n",
    "import numpy as np\n",
    "import seaborn as sns\n",
    "sns.set_style(\"white\")\n",
    "import pandas as pd\n",
    "from matplotlib.font_manager import FontProperties\n",
    "fontP = FontProperties()\n",
    "fontP.set_size('small')\n",
    "import warnings\n",
    "warnings.filterwarnings('ignore')\n",
    "my_dpi=120\n",
    "\n",
    "df=pd.read_csv(\"Stressors_weekdays_timeofday.csv\")\n",
    "# print(len(df))\n",
    "# remove_n = 30\n",
    "# drop_indices = np.random.choice(df.index, remove_n, replace=False)\n",
    "# data = df.drop(drop_indices)\n",
    "# print(len(data))\n",
    "print(df.Stressors.unique())\n",
    "data=df\n",
    "data['Stressors']=pd.Categorical(data['Stressors'])\n",
    "colors =[\"red\",\"green\",\"blue\",\"orange\"]\n",
    "cluster={\n",
    "    \"Anxiety\":1, \n",
    "    \"Assault\":2, \n",
    "    \"Exam preparation\":3, \n",
    "    \"Household Chores\":4, \n",
    "    \"Lack of nutrition\":5\n",
    "#      \"Late arrival\":6,\n",
    "#     \"Loneliness\":7,\n",
    "#     \"Missed payment\":8,\n",
    "#     \"Stuck in traffic\":9, \n",
    "#     \"Unclear expectations\":10\n",
    "}\n",
    "\n",
    "marker_cluster={\n",
    "    \"Anxiety\":\"h\", \n",
    "    \"Assault\":\"x\", \n",
    "    \"Exam preparation\":\"d\", \n",
    "    \"Household Chores\":\"*\", \n",
    "    \"Lack of nutrition\":\"s\", \n",
    "     \"Late arrival\":\"p\",\n",
    "    \"Loneliness\":\"1\",\n",
    "    \"Missed payment\":\"8\",\n",
    "    \"Stuck in traffic\":\"o\", \n",
    "    \"Unclear expectations\":\"p\"\n",
    "}\n",
    "week_color={\n",
    "    1:\"r\", \n",
    "    2:\"b\", \n",
    "    3:\"g\"\n",
    "}\n",
    "week_num={\n",
    "    \"Monday\":1, \n",
    "    \"Tuesday\":2, \n",
    "    \"Wednesday\":3, \n",
    "    \"Thursday\":4, \n",
    "    \"Friday\":5, \n",
    "     \"Saturday\":6,\n",
    "    \"Sunday\":7\n",
    "}\n",
    "cats = [ 'Monday', 'Tuesday', 'Wednesday', 'Thursday', 'Friday', 'Saturday', 'Sunday']\n",
    "location=['Home','Work','On the road','Others']\n",
    "# For each year:\n",
    "temp1=pd.DataFrame(columns=['Day', 'Time of day', 'Type of Day', 'Location', 'Stressors','Frequency'])\n",
    "week1_df=data[data.Week==1]\n",
    "\n",
    "week1_df['Week_int'] = week1_df['Day'].map(week_num)\n",
    "print(week1_df)\n",
    "\n",
    "\n",
    "\n",
    "temp=week1_df\n",
    "stressors_list=temp.Stressors.unique()\n",
    "temp['Cluster'] = temp['Stressors'].map(cluster)\n",
    "x=temp.Day.values.tolist()\n",
    "x=np.array(x)\n",
    "y=temp[\"Location\"].values.tolist()\n",
    "y=np.array(y)\n",
    "cluster_tmp=temp[\"Cluster\"].values.tolist()\n",
    "cluster_tmp=np.array(cluster_tmp) \n",
    "z=temp[\"Frequency\"].values.tolist()\n",
    "z=np.array(z)\n",
    "test=temp[\"Week\"].unique()\n",
    "test=np.array(test)\n",
    "for j in (stressors_list): \n",
    "    plt.scatter(x[cluster_tmp==cluster[j]],y[cluster_tmp==cluster[j]], marker=marker_cluster[j],s=200,label=j,color='b',alpha=0.9,\n",
    "                                    edgecolors='none')\n",
    "# for i in data.Week.unique():\n",
    "#     print(i)"
   ]
  },
  {
   "cell_type": "code",
   "execution_count": 13,
   "metadata": {},
   "outputs": [
    {
     "name": "stdout",
     "output_type": "stream",
     "text": [
      "['Household Chores' 'Lack of nutrition' 'Anxiety' 'Exam preparation'\n",
      " 'Assault']\n"
     ]
    },
    {
     "data": {
      "application/vnd.plotly.v1+json": {
       "config": {
        "plotlyServerURL": "https://plot.ly"
       },
       "data": [
        {
         "mode": "markers",
         "name": "Week : 1",
         "text": [
          "Household Chores",
          "Lack of nutrition",
          "Anxiety",
          "Exam preparation",
          "Lack of nutrition",
          "Exam preparation",
          "Assault",
          "Anxiety",
          "Household Chores",
          "Assault",
          "Assault",
          "Anxiety",
          "Lack of nutrition",
          "Exam preparation",
          "Household Chores",
          "Lack of nutrition",
          "Anxiety",
          "Assault",
          "Assault",
          "Exam preparation",
          "Assault"
         ],
         "type": "scatter",
         "x": [
          "Monday",
          "Tuesday",
          "Wednesday",
          "Thursday",
          "Friday",
          "Saturday",
          "Sunday",
          "Monday",
          "Tuesday",
          "Wednesday",
          "Thursday",
          "Friday",
          "Saturday",
          "Sunday",
          "Monday",
          "Tuesday",
          "Wednesday",
          "Thursday",
          "Friday",
          "Saturday",
          "Sunday"
         ],
         "y": [
          "Home",
          "Home",
          "Work",
          "Home",
          "Others",
          "Home",
          "Home",
          "Home",
          "Work",
          "Home",
          "Home",
          "Work",
          "Home",
          "Work",
          "Work",
          "Home",
          "On the road",
          "Home",
          "Home",
          "Work",
          "Home"
         ]
        },
        {
         "mode": "markers",
         "name": "Week : 2",
         "text": [
          "Household Chores",
          "Lack of nutrition",
          "Lack of nutrition",
          "Lack of nutrition",
          "Anxiety",
          "Assault",
          "Exam preparation",
          "Assault",
          "Household Chores",
          "Lack of nutrition",
          "Lack of nutrition",
          "Assault",
          "Household Chores",
          "Anxiety",
          "Lack of nutrition",
          "Exam preparation",
          "Household Chores",
          "Exam preparation",
          "Lack of nutrition",
          "Exam preparation",
          "Household Chores"
         ],
         "type": "scatter",
         "x": [
          "Monday",
          "Tuesday",
          "Wednesday",
          "Thursday",
          "Friday",
          "Saturday",
          "Sunday",
          "Monday",
          "Tuesday",
          "Wednesday",
          "Thursday",
          "Friday",
          "Saturday",
          "Sunday",
          "Monday",
          "Tuesday",
          "Wednesday",
          "Thursday",
          "Friday",
          "Saturday",
          "Sunday"
         ],
         "y": [
          "Work",
          "On the road",
          "Work",
          "Others",
          "Work",
          "Others",
          "Home",
          "On the road",
          "Work",
          "On the road",
          "Home",
          "Work",
          "Work",
          "Home",
          "Home",
          "Work",
          "On the road",
          "On the road",
          "Home",
          "On the road",
          "Work"
         ]
        },
        {
         "mode": "markers",
         "name": "Week : 3",
         "text": [
          "Assault",
          "Exam preparation",
          "Household Chores",
          "Lack of nutrition",
          "Anxiety",
          "Assault",
          "Household Chores",
          "Household Chores",
          "Exam preparation",
          "Lack of nutrition",
          "Assault",
          "Household Chores",
          "Exam preparation",
          "Exam preparation",
          "Household Chores",
          "Household Chores",
          "Assault",
          "Exam preparation",
          "Household Chores",
          "Household Chores",
          "Exam preparation"
         ],
         "type": "scatter",
         "x": [
          "Monday",
          "Tuesday",
          "Wednesday",
          "Thursday",
          "Friday",
          "Saturday",
          "Sunday",
          "Monday",
          "Tuesday",
          "Wednesday",
          "Thursday",
          "Friday",
          "Saturday",
          "Sunday",
          "Monday",
          "Tuesday",
          "Wednesday",
          "Thursday",
          "Friday",
          "Saturday",
          "Sunday"
         ],
         "y": [
          "Others",
          "Work",
          "On the road",
          "Home",
          "Home",
          "On the road",
          "Work",
          "Work",
          "Others",
          "Others",
          "Home",
          "Work",
          "On the road",
          "Others",
          "Work",
          "Home",
          "Others",
          "Home",
          "Work",
          "On the road",
          "On the road"
         ]
        }
       ],
       "layout": {
        "showlegend": true,
        "template": {
         "data": {
          "bar": [
           {
            "error_x": {
             "color": "#2a3f5f"
            },
            "error_y": {
             "color": "#2a3f5f"
            },
            "marker": {
             "line": {
              "color": "#E5ECF6",
              "width": 0.5
             }
            },
            "type": "bar"
           }
          ],
          "barpolar": [
           {
            "marker": {
             "line": {
              "color": "#E5ECF6",
              "width": 0.5
             }
            },
            "type": "barpolar"
           }
          ],
          "carpet": [
           {
            "aaxis": {
             "endlinecolor": "#2a3f5f",
             "gridcolor": "white",
             "linecolor": "white",
             "minorgridcolor": "white",
             "startlinecolor": "#2a3f5f"
            },
            "baxis": {
             "endlinecolor": "#2a3f5f",
             "gridcolor": "white",
             "linecolor": "white",
             "minorgridcolor": "white",
             "startlinecolor": "#2a3f5f"
            },
            "type": "carpet"
           }
          ],
          "choropleth": [
           {
            "colorbar": {
             "outlinewidth": 0,
             "ticks": ""
            },
            "type": "choropleth"
           }
          ],
          "contour": [
           {
            "colorbar": {
             "outlinewidth": 0,
             "ticks": ""
            },
            "colorscale": [
             [
              0,
              "#0d0887"
             ],
             [
              0.1111111111111111,
              "#46039f"
             ],
             [
              0.2222222222222222,
              "#7201a8"
             ],
             [
              0.3333333333333333,
              "#9c179e"
             ],
             [
              0.4444444444444444,
              "#bd3786"
             ],
             [
              0.5555555555555556,
              "#d8576b"
             ],
             [
              0.6666666666666666,
              "#ed7953"
             ],
             [
              0.7777777777777778,
              "#fb9f3a"
             ],
             [
              0.8888888888888888,
              "#fdca26"
             ],
             [
              1,
              "#f0f921"
             ]
            ],
            "type": "contour"
           }
          ],
          "contourcarpet": [
           {
            "colorbar": {
             "outlinewidth": 0,
             "ticks": ""
            },
            "type": "contourcarpet"
           }
          ],
          "heatmap": [
           {
            "colorbar": {
             "outlinewidth": 0,
             "ticks": ""
            },
            "colorscale": [
             [
              0,
              "#0d0887"
             ],
             [
              0.1111111111111111,
              "#46039f"
             ],
             [
              0.2222222222222222,
              "#7201a8"
             ],
             [
              0.3333333333333333,
              "#9c179e"
             ],
             [
              0.4444444444444444,
              "#bd3786"
             ],
             [
              0.5555555555555556,
              "#d8576b"
             ],
             [
              0.6666666666666666,
              "#ed7953"
             ],
             [
              0.7777777777777778,
              "#fb9f3a"
             ],
             [
              0.8888888888888888,
              "#fdca26"
             ],
             [
              1,
              "#f0f921"
             ]
            ],
            "type": "heatmap"
           }
          ],
          "heatmapgl": [
           {
            "colorbar": {
             "outlinewidth": 0,
             "ticks": ""
            },
            "colorscale": [
             [
              0,
              "#0d0887"
             ],
             [
              0.1111111111111111,
              "#46039f"
             ],
             [
              0.2222222222222222,
              "#7201a8"
             ],
             [
              0.3333333333333333,
              "#9c179e"
             ],
             [
              0.4444444444444444,
              "#bd3786"
             ],
             [
              0.5555555555555556,
              "#d8576b"
             ],
             [
              0.6666666666666666,
              "#ed7953"
             ],
             [
              0.7777777777777778,
              "#fb9f3a"
             ],
             [
              0.8888888888888888,
              "#fdca26"
             ],
             [
              1,
              "#f0f921"
             ]
            ],
            "type": "heatmapgl"
           }
          ],
          "histogram": [
           {
            "marker": {
             "colorbar": {
              "outlinewidth": 0,
              "ticks": ""
             }
            },
            "type": "histogram"
           }
          ],
          "histogram2d": [
           {
            "colorbar": {
             "outlinewidth": 0,
             "ticks": ""
            },
            "colorscale": [
             [
              0,
              "#0d0887"
             ],
             [
              0.1111111111111111,
              "#46039f"
             ],
             [
              0.2222222222222222,
              "#7201a8"
             ],
             [
              0.3333333333333333,
              "#9c179e"
             ],
             [
              0.4444444444444444,
              "#bd3786"
             ],
             [
              0.5555555555555556,
              "#d8576b"
             ],
             [
              0.6666666666666666,
              "#ed7953"
             ],
             [
              0.7777777777777778,
              "#fb9f3a"
             ],
             [
              0.8888888888888888,
              "#fdca26"
             ],
             [
              1,
              "#f0f921"
             ]
            ],
            "type": "histogram2d"
           }
          ],
          "histogram2dcontour": [
           {
            "colorbar": {
             "outlinewidth": 0,
             "ticks": ""
            },
            "colorscale": [
             [
              0,
              "#0d0887"
             ],
             [
              0.1111111111111111,
              "#46039f"
             ],
             [
              0.2222222222222222,
              "#7201a8"
             ],
             [
              0.3333333333333333,
              "#9c179e"
             ],
             [
              0.4444444444444444,
              "#bd3786"
             ],
             [
              0.5555555555555556,
              "#d8576b"
             ],
             [
              0.6666666666666666,
              "#ed7953"
             ],
             [
              0.7777777777777778,
              "#fb9f3a"
             ],
             [
              0.8888888888888888,
              "#fdca26"
             ],
             [
              1,
              "#f0f921"
             ]
            ],
            "type": "histogram2dcontour"
           }
          ],
          "mesh3d": [
           {
            "colorbar": {
             "outlinewidth": 0,
             "ticks": ""
            },
            "type": "mesh3d"
           }
          ],
          "parcoords": [
           {
            "line": {
             "colorbar": {
              "outlinewidth": 0,
              "ticks": ""
             }
            },
            "type": "parcoords"
           }
          ],
          "scatter": [
           {
            "marker": {
             "colorbar": {
              "outlinewidth": 0,
              "ticks": ""
             }
            },
            "type": "scatter"
           }
          ],
          "scatter3d": [
           {
            "line": {
             "colorbar": {
              "outlinewidth": 0,
              "ticks": ""
             }
            },
            "marker": {
             "colorbar": {
              "outlinewidth": 0,
              "ticks": ""
             }
            },
            "type": "scatter3d"
           }
          ],
          "scattercarpet": [
           {
            "marker": {
             "colorbar": {
              "outlinewidth": 0,
              "ticks": ""
             }
            },
            "type": "scattercarpet"
           }
          ],
          "scattergeo": [
           {
            "marker": {
             "colorbar": {
              "outlinewidth": 0,
              "ticks": ""
             }
            },
            "type": "scattergeo"
           }
          ],
          "scattergl": [
           {
            "marker": {
             "colorbar": {
              "outlinewidth": 0,
              "ticks": ""
             }
            },
            "type": "scattergl"
           }
          ],
          "scattermapbox": [
           {
            "marker": {
             "colorbar": {
              "outlinewidth": 0,
              "ticks": ""
             }
            },
            "type": "scattermapbox"
           }
          ],
          "scatterpolar": [
           {
            "marker": {
             "colorbar": {
              "outlinewidth": 0,
              "ticks": ""
             }
            },
            "type": "scatterpolar"
           }
          ],
          "scatterpolargl": [
           {
            "marker": {
             "colorbar": {
              "outlinewidth": 0,
              "ticks": ""
             }
            },
            "type": "scatterpolargl"
           }
          ],
          "scatterternary": [
           {
            "marker": {
             "colorbar": {
              "outlinewidth": 0,
              "ticks": ""
             }
            },
            "type": "scatterternary"
           }
          ],
          "surface": [
           {
            "colorbar": {
             "outlinewidth": 0,
             "ticks": ""
            },
            "colorscale": [
             [
              0,
              "#0d0887"
             ],
             [
              0.1111111111111111,
              "#46039f"
             ],
             [
              0.2222222222222222,
              "#7201a8"
             ],
             [
              0.3333333333333333,
              "#9c179e"
             ],
             [
              0.4444444444444444,
              "#bd3786"
             ],
             [
              0.5555555555555556,
              "#d8576b"
             ],
             [
              0.6666666666666666,
              "#ed7953"
             ],
             [
              0.7777777777777778,
              "#fb9f3a"
             ],
             [
              0.8888888888888888,
              "#fdca26"
             ],
             [
              1,
              "#f0f921"
             ]
            ],
            "type": "surface"
           }
          ],
          "table": [
           {
            "cells": {
             "fill": {
              "color": "#EBF0F8"
             },
             "line": {
              "color": "white"
             }
            },
            "header": {
             "fill": {
              "color": "#C8D4E3"
             },
             "line": {
              "color": "white"
             }
            },
            "type": "table"
           }
          ]
         },
         "layout": {
          "annotationdefaults": {
           "arrowcolor": "#2a3f5f",
           "arrowhead": 0,
           "arrowwidth": 1
          },
          "colorscale": {
           "diverging": [
            [
             0,
             "#8e0152"
            ],
            [
             0.1,
             "#c51b7d"
            ],
            [
             0.2,
             "#de77ae"
            ],
            [
             0.3,
             "#f1b6da"
            ],
            [
             0.4,
             "#fde0ef"
            ],
            [
             0.5,
             "#f7f7f7"
            ],
            [
             0.6,
             "#e6f5d0"
            ],
            [
             0.7,
             "#b8e186"
            ],
            [
             0.8,
             "#7fbc41"
            ],
            [
             0.9,
             "#4d9221"
            ],
            [
             1,
             "#276419"
            ]
           ],
           "sequential": [
            [
             0,
             "#0d0887"
            ],
            [
             0.1111111111111111,
             "#46039f"
            ],
            [
             0.2222222222222222,
             "#7201a8"
            ],
            [
             0.3333333333333333,
             "#9c179e"
            ],
            [
             0.4444444444444444,
             "#bd3786"
            ],
            [
             0.5555555555555556,
             "#d8576b"
            ],
            [
             0.6666666666666666,
             "#ed7953"
            ],
            [
             0.7777777777777778,
             "#fb9f3a"
            ],
            [
             0.8888888888888888,
             "#fdca26"
            ],
            [
             1,
             "#f0f921"
            ]
           ],
           "sequentialminus": [
            [
             0,
             "#0d0887"
            ],
            [
             0.1111111111111111,
             "#46039f"
            ],
            [
             0.2222222222222222,
             "#7201a8"
            ],
            [
             0.3333333333333333,
             "#9c179e"
            ],
            [
             0.4444444444444444,
             "#bd3786"
            ],
            [
             0.5555555555555556,
             "#d8576b"
            ],
            [
             0.6666666666666666,
             "#ed7953"
            ],
            [
             0.7777777777777778,
             "#fb9f3a"
            ],
            [
             0.8888888888888888,
             "#fdca26"
            ],
            [
             1,
             "#f0f921"
            ]
           ]
          },
          "colorway": [
           "#636efa",
           "#EF553B",
           "#00cc96",
           "#ab63fa",
           "#FFA15A",
           "#19d3f3",
           "#FF6692",
           "#B6E880",
           "#FF97FF",
           "#FECB52"
          ],
          "font": {
           "color": "#2a3f5f"
          },
          "geo": {
           "bgcolor": "white",
           "lakecolor": "white",
           "landcolor": "#E5ECF6",
           "showlakes": true,
           "showland": true,
           "subunitcolor": "white"
          },
          "hoverlabel": {
           "align": "left"
          },
          "hovermode": "closest",
          "mapbox": {
           "style": "light"
          },
          "paper_bgcolor": "white",
          "plot_bgcolor": "#E5ECF6",
          "polar": {
           "angularaxis": {
            "gridcolor": "white",
            "linecolor": "white",
            "ticks": ""
           },
           "bgcolor": "#E5ECF6",
           "radialaxis": {
            "gridcolor": "white",
            "linecolor": "white",
            "ticks": ""
           }
          },
          "scene": {
           "xaxis": {
            "backgroundcolor": "#E5ECF6",
            "gridcolor": "white",
            "gridwidth": 2,
            "linecolor": "white",
            "showbackground": true,
            "ticks": "",
            "zerolinecolor": "white"
           },
           "yaxis": {
            "backgroundcolor": "#E5ECF6",
            "gridcolor": "white",
            "gridwidth": 2,
            "linecolor": "white",
            "showbackground": true,
            "ticks": "",
            "zerolinecolor": "white"
           },
           "zaxis": {
            "backgroundcolor": "#E5ECF6",
            "gridcolor": "white",
            "gridwidth": 2,
            "linecolor": "white",
            "showbackground": true,
            "ticks": "",
            "zerolinecolor": "white"
           }
          },
          "shapedefaults": {
           "line": {
            "color": "#2a3f5f"
           }
          },
          "ternary": {
           "aaxis": {
            "gridcolor": "white",
            "linecolor": "white",
            "ticks": ""
           },
           "baxis": {
            "gridcolor": "white",
            "linecolor": "white",
            "ticks": ""
           },
           "bgcolor": "#E5ECF6",
           "caxis": {
            "gridcolor": "white",
            "linecolor": "white",
            "ticks": ""
           }
          },
          "title": {
           "x": 0.05
          },
          "xaxis": {
           "automargin": true,
           "gridcolor": "white",
           "linecolor": "white",
           "ticks": "",
           "zerolinecolor": "white",
           "zerolinewidth": 2
          },
          "yaxis": {
           "automargin": true,
           "gridcolor": "white",
           "linecolor": "white",
           "ticks": "",
           "zerolinecolor": "white",
           "zerolinewidth": 2
          }
         }
        }
       }
      },
      "text/html": [
       "<div>\n",
       "        \n",
       "        \n",
       "            <div id=\"57b8cc87-d3a4-4798-9898-fc5d88b791f5\" class=\"plotly-graph-div\" style=\"height:525px; width:100%;\"></div>\n",
       "            <script type=\"text/javascript\">\n",
       "                require([\"plotly\"], function(Plotly) {\n",
       "                    window.PLOTLYENV=window.PLOTLYENV || {};\n",
       "                    \n",
       "                if (document.getElementById(\"57b8cc87-d3a4-4798-9898-fc5d88b791f5\")) {\n",
       "                    Plotly.newPlot(\n",
       "                        '57b8cc87-d3a4-4798-9898-fc5d88b791f5',\n",
       "                        [{\"mode\": \"markers\", \"name\": \"Week : 1\", \"text\": [\"Household Chores\", \"Lack of nutrition\", \"Anxiety\", \"Exam preparation\", \"Lack of nutrition\", \"Exam preparation\", \"Assault\", \"Anxiety\", \"Household Chores\", \"Assault\", \"Assault\", \"Anxiety\", \"Lack of nutrition\", \"Exam preparation\", \"Household Chores\", \"Lack of nutrition\", \"Anxiety\", \"Assault\", \"Assault\", \"Exam preparation\", \"Assault\"], \"type\": \"scatter\", \"x\": [\"Monday\", \"Tuesday\", \"Wednesday\", \"Thursday\", \"Friday\", \"Saturday\", \"Sunday\", \"Monday\", \"Tuesday\", \"Wednesday\", \"Thursday\", \"Friday\", \"Saturday\", \"Sunday\", \"Monday\", \"Tuesday\", \"Wednesday\", \"Thursday\", \"Friday\", \"Saturday\", \"Sunday\"], \"y\": [\"Home\", \"Home\", \"Work\", \"Home\", \"Others\", \"Home\", \"Home\", \"Home\", \"Work\", \"Home\", \"Home\", \"Work\", \"Home\", \"Work\", \"Work\", \"Home\", \"On the road\", \"Home\", \"Home\", \"Work\", \"Home\"]}, {\"mode\": \"markers\", \"name\": \"Week : 2\", \"text\": [\"Household Chores\", \"Lack of nutrition\", \"Lack of nutrition\", \"Lack of nutrition\", \"Anxiety\", \"Assault\", \"Exam preparation\", \"Assault\", \"Household Chores\", \"Lack of nutrition\", \"Lack of nutrition\", \"Assault\", \"Household Chores\", \"Anxiety\", \"Lack of nutrition\", \"Exam preparation\", \"Household Chores\", \"Exam preparation\", \"Lack of nutrition\", \"Exam preparation\", \"Household Chores\"], \"type\": \"scatter\", \"x\": [\"Monday\", \"Tuesday\", \"Wednesday\", \"Thursday\", \"Friday\", \"Saturday\", \"Sunday\", \"Monday\", \"Tuesday\", \"Wednesday\", \"Thursday\", \"Friday\", \"Saturday\", \"Sunday\", \"Monday\", \"Tuesday\", \"Wednesday\", \"Thursday\", \"Friday\", \"Saturday\", \"Sunday\"], \"y\": [\"Work\", \"On the road\", \"Work\", \"Others\", \"Work\", \"Others\", \"Home\", \"On the road\", \"Work\", \"On the road\", \"Home\", \"Work\", \"Work\", \"Home\", \"Home\", \"Work\", \"On the road\", \"On the road\", \"Home\", \"On the road\", \"Work\"]}, {\"mode\": \"markers\", \"name\": \"Week : 3\", \"text\": [\"Assault\", \"Exam preparation\", \"Household Chores\", \"Lack of nutrition\", \"Anxiety\", \"Assault\", \"Household Chores\", \"Household Chores\", \"Exam preparation\", \"Lack of nutrition\", \"Assault\", \"Household Chores\", \"Exam preparation\", \"Exam preparation\", \"Household Chores\", \"Household Chores\", \"Assault\", \"Exam preparation\", \"Household Chores\", \"Household Chores\", \"Exam preparation\"], \"type\": \"scatter\", \"x\": [\"Monday\", \"Tuesday\", \"Wednesday\", \"Thursday\", \"Friday\", \"Saturday\", \"Sunday\", \"Monday\", \"Tuesday\", \"Wednesday\", \"Thursday\", \"Friday\", \"Saturday\", \"Sunday\", \"Monday\", \"Tuesday\", \"Wednesday\", \"Thursday\", \"Friday\", \"Saturday\", \"Sunday\"], \"y\": [\"Others\", \"Work\", \"On the road\", \"Home\", \"Home\", \"On the road\", \"Work\", \"Work\", \"Others\", \"Others\", \"Home\", \"Work\", \"On the road\", \"Others\", \"Work\", \"Home\", \"Others\", \"Home\", \"Work\", \"On the road\", \"On the road\"]}],\n",
       "                        {\"showlegend\": true, \"template\": {\"data\": {\"bar\": [{\"error_x\": {\"color\": \"#2a3f5f\"}, \"error_y\": {\"color\": \"#2a3f5f\"}, \"marker\": {\"line\": {\"color\": \"#E5ECF6\", \"width\": 0.5}}, \"type\": \"bar\"}], \"barpolar\": [{\"marker\": {\"line\": {\"color\": \"#E5ECF6\", \"width\": 0.5}}, \"type\": \"barpolar\"}], \"carpet\": [{\"aaxis\": {\"endlinecolor\": \"#2a3f5f\", \"gridcolor\": \"white\", \"linecolor\": \"white\", \"minorgridcolor\": \"white\", \"startlinecolor\": \"#2a3f5f\"}, \"baxis\": {\"endlinecolor\": \"#2a3f5f\", \"gridcolor\": \"white\", \"linecolor\": \"white\", \"minorgridcolor\": \"white\", \"startlinecolor\": \"#2a3f5f\"}, \"type\": \"carpet\"}], \"choropleth\": [{\"colorbar\": {\"outlinewidth\": 0, \"ticks\": \"\"}, \"type\": \"choropleth\"}], \"contour\": [{\"colorbar\": {\"outlinewidth\": 0, \"ticks\": \"\"}, \"colorscale\": [[0.0, \"#0d0887\"], [0.1111111111111111, \"#46039f\"], [0.2222222222222222, \"#7201a8\"], [0.3333333333333333, \"#9c179e\"], [0.4444444444444444, \"#bd3786\"], [0.5555555555555556, \"#d8576b\"], [0.6666666666666666, \"#ed7953\"], [0.7777777777777778, \"#fb9f3a\"], [0.8888888888888888, \"#fdca26\"], [1.0, \"#f0f921\"]], \"type\": \"contour\"}], \"contourcarpet\": [{\"colorbar\": {\"outlinewidth\": 0, \"ticks\": \"\"}, \"type\": \"contourcarpet\"}], \"heatmap\": [{\"colorbar\": {\"outlinewidth\": 0, \"ticks\": \"\"}, \"colorscale\": [[0.0, \"#0d0887\"], [0.1111111111111111, \"#46039f\"], [0.2222222222222222, \"#7201a8\"], [0.3333333333333333, \"#9c179e\"], [0.4444444444444444, \"#bd3786\"], [0.5555555555555556, \"#d8576b\"], [0.6666666666666666, \"#ed7953\"], [0.7777777777777778, \"#fb9f3a\"], [0.8888888888888888, \"#fdca26\"], [1.0, \"#f0f921\"]], \"type\": \"heatmap\"}], \"heatmapgl\": [{\"colorbar\": {\"outlinewidth\": 0, \"ticks\": \"\"}, \"colorscale\": [[0.0, \"#0d0887\"], [0.1111111111111111, \"#46039f\"], [0.2222222222222222, \"#7201a8\"], [0.3333333333333333, \"#9c179e\"], [0.4444444444444444, \"#bd3786\"], [0.5555555555555556, \"#d8576b\"], [0.6666666666666666, \"#ed7953\"], [0.7777777777777778, \"#fb9f3a\"], [0.8888888888888888, \"#fdca26\"], [1.0, \"#f0f921\"]], \"type\": \"heatmapgl\"}], \"histogram\": [{\"marker\": {\"colorbar\": {\"outlinewidth\": 0, \"ticks\": \"\"}}, \"type\": \"histogram\"}], \"histogram2d\": [{\"colorbar\": {\"outlinewidth\": 0, \"ticks\": \"\"}, \"colorscale\": [[0.0, \"#0d0887\"], [0.1111111111111111, \"#46039f\"], [0.2222222222222222, \"#7201a8\"], [0.3333333333333333, \"#9c179e\"], [0.4444444444444444, \"#bd3786\"], [0.5555555555555556, \"#d8576b\"], [0.6666666666666666, \"#ed7953\"], [0.7777777777777778, \"#fb9f3a\"], [0.8888888888888888, \"#fdca26\"], [1.0, \"#f0f921\"]], \"type\": \"histogram2d\"}], \"histogram2dcontour\": [{\"colorbar\": {\"outlinewidth\": 0, \"ticks\": \"\"}, \"colorscale\": [[0.0, \"#0d0887\"], [0.1111111111111111, \"#46039f\"], [0.2222222222222222, \"#7201a8\"], [0.3333333333333333, \"#9c179e\"], [0.4444444444444444, \"#bd3786\"], [0.5555555555555556, \"#d8576b\"], [0.6666666666666666, \"#ed7953\"], [0.7777777777777778, \"#fb9f3a\"], [0.8888888888888888, \"#fdca26\"], [1.0, \"#f0f921\"]], \"type\": \"histogram2dcontour\"}], \"mesh3d\": [{\"colorbar\": {\"outlinewidth\": 0, \"ticks\": \"\"}, \"type\": \"mesh3d\"}], \"parcoords\": [{\"line\": {\"colorbar\": {\"outlinewidth\": 0, \"ticks\": \"\"}}, \"type\": \"parcoords\"}], \"scatter\": [{\"marker\": {\"colorbar\": {\"outlinewidth\": 0, \"ticks\": \"\"}}, \"type\": \"scatter\"}], \"scatter3d\": [{\"line\": {\"colorbar\": {\"outlinewidth\": 0, \"ticks\": \"\"}}, \"marker\": {\"colorbar\": {\"outlinewidth\": 0, \"ticks\": \"\"}}, \"type\": \"scatter3d\"}], \"scattercarpet\": [{\"marker\": {\"colorbar\": {\"outlinewidth\": 0, \"ticks\": \"\"}}, \"type\": \"scattercarpet\"}], \"scattergeo\": [{\"marker\": {\"colorbar\": {\"outlinewidth\": 0, \"ticks\": \"\"}}, \"type\": \"scattergeo\"}], \"scattergl\": [{\"marker\": {\"colorbar\": {\"outlinewidth\": 0, \"ticks\": \"\"}}, \"type\": \"scattergl\"}], \"scattermapbox\": [{\"marker\": {\"colorbar\": {\"outlinewidth\": 0, \"ticks\": \"\"}}, \"type\": \"scattermapbox\"}], \"scatterpolar\": [{\"marker\": {\"colorbar\": {\"outlinewidth\": 0, \"ticks\": \"\"}}, \"type\": \"scatterpolar\"}], \"scatterpolargl\": [{\"marker\": {\"colorbar\": {\"outlinewidth\": 0, \"ticks\": \"\"}}, \"type\": \"scatterpolargl\"}], \"scatterternary\": [{\"marker\": {\"colorbar\": {\"outlinewidth\": 0, \"ticks\": \"\"}}, \"type\": \"scatterternary\"}], \"surface\": [{\"colorbar\": {\"outlinewidth\": 0, \"ticks\": \"\"}, \"colorscale\": [[0.0, \"#0d0887\"], [0.1111111111111111, \"#46039f\"], [0.2222222222222222, \"#7201a8\"], [0.3333333333333333, \"#9c179e\"], [0.4444444444444444, \"#bd3786\"], [0.5555555555555556, \"#d8576b\"], [0.6666666666666666, \"#ed7953\"], [0.7777777777777778, \"#fb9f3a\"], [0.8888888888888888, \"#fdca26\"], [1.0, \"#f0f921\"]], \"type\": \"surface\"}], \"table\": [{\"cells\": {\"fill\": {\"color\": \"#EBF0F8\"}, \"line\": {\"color\": \"white\"}}, \"header\": {\"fill\": {\"color\": \"#C8D4E3\"}, \"line\": {\"color\": \"white\"}}, \"type\": \"table\"}]}, \"layout\": {\"annotationdefaults\": {\"arrowcolor\": \"#2a3f5f\", \"arrowhead\": 0, \"arrowwidth\": 1}, \"colorscale\": {\"diverging\": [[0, \"#8e0152\"], [0.1, \"#c51b7d\"], [0.2, \"#de77ae\"], [0.3, \"#f1b6da\"], [0.4, \"#fde0ef\"], [0.5, \"#f7f7f7\"], [0.6, \"#e6f5d0\"], [0.7, \"#b8e186\"], [0.8, \"#7fbc41\"], [0.9, \"#4d9221\"], [1, \"#276419\"]], \"sequential\": [[0.0, \"#0d0887\"], [0.1111111111111111, \"#46039f\"], [0.2222222222222222, \"#7201a8\"], [0.3333333333333333, \"#9c179e\"], [0.4444444444444444, \"#bd3786\"], [0.5555555555555556, \"#d8576b\"], [0.6666666666666666, \"#ed7953\"], [0.7777777777777778, \"#fb9f3a\"], [0.8888888888888888, \"#fdca26\"], [1.0, \"#f0f921\"]], \"sequentialminus\": [[0.0, \"#0d0887\"], [0.1111111111111111, \"#46039f\"], [0.2222222222222222, \"#7201a8\"], [0.3333333333333333, \"#9c179e\"], [0.4444444444444444, \"#bd3786\"], [0.5555555555555556, \"#d8576b\"], [0.6666666666666666, \"#ed7953\"], [0.7777777777777778, \"#fb9f3a\"], [0.8888888888888888, \"#fdca26\"], [1.0, \"#f0f921\"]]}, \"colorway\": [\"#636efa\", \"#EF553B\", \"#00cc96\", \"#ab63fa\", \"#FFA15A\", \"#19d3f3\", \"#FF6692\", \"#B6E880\", \"#FF97FF\", \"#FECB52\"], \"font\": {\"color\": \"#2a3f5f\"}, \"geo\": {\"bgcolor\": \"white\", \"lakecolor\": \"white\", \"landcolor\": \"#E5ECF6\", \"showlakes\": true, \"showland\": true, \"subunitcolor\": \"white\"}, \"hoverlabel\": {\"align\": \"left\"}, \"hovermode\": \"closest\", \"mapbox\": {\"style\": \"light\"}, \"paper_bgcolor\": \"white\", \"plot_bgcolor\": \"#E5ECF6\", \"polar\": {\"angularaxis\": {\"gridcolor\": \"white\", \"linecolor\": \"white\", \"ticks\": \"\"}, \"bgcolor\": \"#E5ECF6\", \"radialaxis\": {\"gridcolor\": \"white\", \"linecolor\": \"white\", \"ticks\": \"\"}}, \"scene\": {\"xaxis\": {\"backgroundcolor\": \"#E5ECF6\", \"gridcolor\": \"white\", \"gridwidth\": 2, \"linecolor\": \"white\", \"showbackground\": true, \"ticks\": \"\", \"zerolinecolor\": \"white\"}, \"yaxis\": {\"backgroundcolor\": \"#E5ECF6\", \"gridcolor\": \"white\", \"gridwidth\": 2, \"linecolor\": \"white\", \"showbackground\": true, \"ticks\": \"\", \"zerolinecolor\": \"white\"}, \"zaxis\": {\"backgroundcolor\": \"#E5ECF6\", \"gridcolor\": \"white\", \"gridwidth\": 2, \"linecolor\": \"white\", \"showbackground\": true, \"ticks\": \"\", \"zerolinecolor\": \"white\"}}, \"shapedefaults\": {\"line\": {\"color\": \"#2a3f5f\"}}, \"ternary\": {\"aaxis\": {\"gridcolor\": \"white\", \"linecolor\": \"white\", \"ticks\": \"\"}, \"baxis\": {\"gridcolor\": \"white\", \"linecolor\": \"white\", \"ticks\": \"\"}, \"bgcolor\": \"#E5ECF6\", \"caxis\": {\"gridcolor\": \"white\", \"linecolor\": \"white\", \"ticks\": \"\"}}, \"title\": {\"x\": 0.05}, \"xaxis\": {\"automargin\": true, \"gridcolor\": \"white\", \"linecolor\": \"white\", \"ticks\": \"\", \"zerolinecolor\": \"white\", \"zerolinewidth\": 2}, \"yaxis\": {\"automargin\": true, \"gridcolor\": \"white\", \"linecolor\": \"white\", \"ticks\": \"\", \"zerolinecolor\": \"white\", \"zerolinewidth\": 2}}}},\n",
       "                        {\"responsive\": true}\n",
       "                    ).then(function(){\n",
       "                            \n",
       "var gd = document.getElementById('57b8cc87-d3a4-4798-9898-fc5d88b791f5');\n",
       "var x = new MutationObserver(function (mutations, observer) {{\n",
       "        var display = window.getComputedStyle(gd).display;\n",
       "        if (!display || display === 'none') {{\n",
       "            console.log([gd, 'removed!']);\n",
       "            Plotly.purge(gd);\n",
       "            observer.disconnect();\n",
       "        }}\n",
       "}});\n",
       "\n",
       "// Listen for the removal of the full notebook cells\n",
       "var notebookContainer = gd.closest('#notebook-container');\n",
       "if (notebookContainer) {{\n",
       "    x.observe(notebookContainer, {childList: true});\n",
       "}}\n",
       "\n",
       "// Listen for the clearing of the current output cell\n",
       "var outputEl = gd.closest('.output');\n",
       "if (outputEl) {{\n",
       "    x.observe(outputEl, {childList: true});\n",
       "}}\n",
       "\n",
       "                        })\n",
       "                };\n",
       "                });\n",
       "            </script>\n",
       "        </div>"
      ]
     },
     "metadata": {},
     "output_type": "display_data"
    }
   ],
   "source": [
    "import plotly.graph_objects as go\n",
    "import pandas as pd\n",
    "\n",
    "import numpy as np\n",
    "np.random.seed(1)\n",
    "\n",
    "# Generate data\n",
    "df=pd.read_csv(\"Stressors_weekdays_timeofday.csv\")\n",
    "\n",
    "print(df.Stressors.unique())\n",
    "data=df\n",
    "data['Stressors']=pd.Categorical(data['Stressors'])\n",
    "\n",
    "# Create figure\n",
    "fig = go.Figure()\n",
    "\n",
    "# Add scatter traces\n",
    "for i in df.Week.unique():\n",
    "    temp=df[df.Week==i]\n",
    "    fig.add_trace(go.Scatter(\n",
    "    x=temp[\"Day\"],\n",
    "    y=temp[\"Location\"],\n",
    "        text=temp['Stressors'],\n",
    "    mode=\"markers\",\n",
    "   \n",
    "    name=\"Week : \" + str(i)\n",
    "))\n",
    "    \n",
    "    \n",
    "# fig.add_trace(go.Scatter(\n",
    "#     x=x0,\n",
    "#     y=y0,\n",
    "#     mode=\"markers\",\n",
    "# ))\n",
    "\n",
    "# fig.add_trace(go.Scatter(\n",
    "#     x=x1,\n",
    "#     y=y1,\n",
    "#     mode=\"markers\"\n",
    "# ))\n",
    "\n",
    "# fig.add_trace(go.Scatter(\n",
    "#     x=x2,\n",
    "#     y=y2,\n",
    "#     mode=\"markers\"\n",
    "# ))\n",
    "\n",
    "# fig.add_trace(go.Scatter(\n",
    "#     x=x1,\n",
    "#     y=y0,\n",
    "#     mode=\"markers\",\n",
    "#     name=\"Sameer\"\n",
    "# ))\n",
    "\n",
    "# # Add shapes\n",
    "# fig.update_layout(\n",
    "#     shapes=[\n",
    "#         dict(\n",
    "#             type=\"circle\",\n",
    "#             xref=\"x\",\n",
    "#             yref=\"y\",\n",
    "#             x0=min(x0),\n",
    "#             y0=min(y0),\n",
    "#             x1=max(x0),\n",
    "#             y1=max(y0),\n",
    "#             opacity=0.2,\n",
    "#             fillcolor=\"blue\",\n",
    "#             line_color=\"blue\",\n",
    "#         ),\n",
    "#         dict(\n",
    "#             type=\"circle\",\n",
    "#             xref=\"x\",\n",
    "#             yref=\"y\",\n",
    "#             x0=min(x1),\n",
    "#             y0=min(y1),\n",
    "#             x1=max(x1),\n",
    "#             y1=max(y1),\n",
    "#             opacity=0.2,\n",
    "#             fillcolor=\"orange\",\n",
    "#             line_color=\"orange\",\n",
    "#         ),\n",
    "#         dict(\n",
    "#             type=\"circle\",\n",
    "#             xref=\"x\",\n",
    "#             yref=\"y\",\n",
    "#             x0=min(x2),\n",
    "#             y0=min(y2),\n",
    "#             x1=max(x2),\n",
    "#             y1=max(y2),\n",
    "#             opacity=0.2,\n",
    "#             fillcolor=\"green\",\n",
    "#             line_color=\"green\",\n",
    "#         ),\n",
    "#         dict(\n",
    "#             type=\"circle\",\n",
    "#             xref=\"x\",\n",
    "#             yref=\"y\",\n",
    "#             x0=min(x1),\n",
    "#             y0=min(y0),\n",
    "#             x1=max(x1),\n",
    "#             y1=max(y0),\n",
    "#             opacity=0.2,\n",
    "#             fillcolor=\"red\",\n",
    "#             line_color=\"red\",\n",
    "#         ),\n",
    "#     ],\n",
    "# )\n",
    "\n",
    "# Hide legend\n",
    "fig.update_layout(showlegend=True)\n",
    "\n",
    "fig.show()"
   ]
  },
  {
   "cell_type": "code",
   "execution_count": null,
   "metadata": {},
   "outputs": [],
   "source": []
  }
 ],
 "metadata": {
  "kernelspec": {
   "display_name": "Python 3",
   "language": "python",
   "name": "python3"
  },
  "language_info": {
   "codemirror_mode": {
    "name": "ipython",
    "version": 3
   },
   "file_extension": ".py",
   "mimetype": "text/x-python",
   "name": "python",
   "nbconvert_exporter": "python",
   "pygments_lexer": "ipython3",
   "version": "3.7.3"
  }
 },
 "nbformat": 4,
 "nbformat_minor": 2
}
