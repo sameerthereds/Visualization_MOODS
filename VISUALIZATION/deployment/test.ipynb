{
 "cells": [
  {
   "cell_type": "code",
   "execution_count": 2,
   "metadata": {},
   "outputs": [],
   "source": [
    "import os"
   ]
  },
  {
   "cell_type": "code",
   "execution_count": 8,
   "metadata": {},
   "outputs": [
    {
     "name": "stdout",
     "output_type": "stream",
     "text": [
      "1/home/sneupane/Documents/md2k_labs/project/MOODS/deployment1\n"
     ]
    }
   ],
   "source": [
    "\n",
    "\n",
    "path = os.getcwd()\n",
    "print(\"1\"+path+\"1\")"
   ]
  },
  {
   "cell_type": "code",
   "execution_count": 13,
   "metadata": {},
   "outputs": [
    {
     "name": "stdout",
     "output_type": "stream",
     "text": [
      "Successfully created the directory /home/sneupane/Documents/md2k_labs/project/MOODS/deployment/sameer \n"
     ]
    }
   ],
   "source": [
    "path1 = os.path.join(path, \"sameer\") \n",
    "try:\n",
    "    os.mkdir(path1)\n",
    "except OSError:\n",
    "    print (\"Creation of the directory %s failed\" % path1)\n",
    "else:\n",
    "    print (\"Successfully created the directory %s \" % path1)\n",
    "    \n",
    "    \n",
    "    "
   ]
  },
  {
   "cell_type": "code",
   "execution_count": 15,
   "metadata": {},
   "outputs": [
    {
     "name": "stdout",
     "output_type": "stream",
     "text": [
      "True\n"
     ]
    }
   ],
   "source": [
    "path = os.getcwd()+\"/tmp/year\"\n",
    "isFile = os.path.exists(path1)  \n",
    "print(isFile) "
   ]
  },
  {
   "cell_type": "code",
   "execution_count": 11,
   "metadata": {},
   "outputs": [
    {
     "data": {
      "text/plain": [
       "'/home/sneupane/Documents/md2k_labs/project/MOODS/deployment/tmp/year'"
      ]
     },
     "execution_count": 11,
     "metadata": {},
     "output_type": "execute_result"
    }
   ],
   "source": [
    "path1"
   ]
  },
  {
   "cell_type": "code",
   "execution_count": 1,
   "metadata": {},
   "outputs": [],
   "source": [
    "#!/usr/bin/python                                                          \n",
    "\n",
    "from visualization import Sameer,Sameer1"
   ]
  },
  {
   "cell_type": "code",
   "execution_count": 2,
   "metadata": {},
   "outputs": [],
   "source": [
    "def generateVisualization(a):\n",
    "    return a.create_visualization()"
   ]
  },
  {
   "cell_type": "code",
   "execution_count": 3,
   "metadata": {},
   "outputs": [],
   "source": [
    "visualizations = [Sameer, Sameer1]"
   ]
  },
  {
   "cell_type": "code",
   "execution_count": 5,
   "metadata": {},
   "outputs": [],
   "source": [
    "test=[]\n",
    "for visualization in visualizations:\n",
    "    temp=generateVisualization(visualization)\n",
    "    print\n",
    "    test.append(temp)"
   ]
  },
  {
   "cell_type": "code",
   "execution_count": 8,
   "metadata": {},
   "outputs": [],
   "source": [
    "with open('test.html', 'a') as f:\n",
    "    for i in test:\n",
    "        f.write(i.to_html(full_html=False, include_plotlyjs='cdn'))\n",
    "    "
   ]
  },
  {
   "cell_type": "code",
   "execution_count": null,
   "metadata": {},
   "outputs": [],
   "source": []
  }
 ],
 "metadata": {
  "kernelspec": {
   "display_name": "Python 3",
   "language": "python",
   "name": "python3"
  },
  "language_info": {
   "codemirror_mode": {
    "name": "ipython",
    "version": 3
   },
   "file_extension": ".py",
   "mimetype": "text/x-python",
   "name": "python",
   "nbconvert_exporter": "python",
   "pygments_lexer": "ipython3",
   "version": "3.7.3"
  }
 },
 "nbformat": 4,
 "nbformat_minor": 2
}
