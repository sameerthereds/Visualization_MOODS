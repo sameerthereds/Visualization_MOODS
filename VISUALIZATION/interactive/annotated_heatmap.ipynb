{
 "cells": [
  {
   "cell_type": "code",
   "execution_count": 76,
   "metadata": {},
   "outputs": [
    {
     "name": "stdout",
     "output_type": "stream",
     "text": [
      "21\n"
     ]
    },
    {
     "data": {
      "application/vnd.plotly.v1+json": {
       "config": {
        "plotlyServerURL": "https://plot.ly"
       },
       "data": [
        {
         "colorscale": [
          [
           0,
           "#440154"
          ],
          [
           0.1111111111111111,
           "#482878"
          ],
          [
           0.2222222222222222,
           "#3e4989"
          ],
          [
           0.3333333333333333,
           "#31688e"
          ],
          [
           0.4444444444444444,
           "#26828e"
          ],
          [
           0.5555555555555556,
           "#1f9e89"
          ],
          [
           0.6666666666666666,
           "#35b779"
          ],
          [
           0.7777777777777778,
           "#6ece58"
          ],
          [
           0.8888888888888888,
           "#b5de2b"
          ],
          [
           1,
           "#fde725"
          ]
         ],
         "hoverinfo": "text",
         "reversescale": false,
         "showscale": false,
         "text": [
          [
           "Home",
           "",
           ""
          ],
          [
           "Work",
           "",
           ""
          ],
          [
           "Work",
           "Home",
           ""
          ],
          [
           "",
           "",
           "On the road"
          ],
          [
           "On the road",
           "Others",
           ""
          ],
          [
           "",
           "Home",
           "Others"
          ],
          [
           "",
           "On the road",
           "Work"
          ]
         ],
         "type": "heatmap",
         "x": [
          "Morning",
          "Afternoon",
          "Evening"
         ],
         "y": [
          "Sunday",
          "Saturday",
          "Friday",
          "Thursday",
          "Wednesday",
          "Tuesday",
          "Monday"
         ],
         "z": [
          [
           0.05,
           0.1,
           0.15
          ],
          [
           0.2,
           0.25,
           0.3
          ],
          [
           0.35,
           0.4,
           0.45
          ],
          [
           0.1,
           0.3,
           0.5
          ],
          [
           1,
           0.8,
           0.6
          ],
          [
           0.6,
           0.4,
           0.2
          ],
          [
           0.3,
           0.5,
           0.01
          ]
         ]
        }
       ],
       "layout": {
        "annotations": [
         {
          "font": {
           "color": "#FFFFFF",
           "size": 20
          },
          "showarrow": false,
          "text": "Finance",
          "x": "Morning",
          "xref": "x",
          "y": "Sunday",
          "yref": "y"
         },
         {
          "font": {
           "color": "#FFFFFF",
           "size": 20
          },
          "showarrow": false,
          "text": "",
          "x": "Afternoon",
          "xref": "x",
          "y": "Sunday",
          "yref": "y"
         },
         {
          "font": {
           "color": "#FFFFFF",
           "size": 20
          },
          "showarrow": false,
          "text": "",
          "x": "Evening",
          "xref": "x",
          "y": "Sunday",
          "yref": "y"
         },
         {
          "font": {
           "color": "#FFFFFF",
           "size": 20
          },
          "showarrow": false,
          "text": "Health",
          "x": "Morning",
          "xref": "x",
          "y": "Saturday",
          "yref": "y"
         },
         {
          "font": {
           "color": "#FFFFFF",
           "size": 20
          },
          "showarrow": false,
          "text": "",
          "x": "Afternoon",
          "xref": "x",
          "y": "Saturday",
          "yref": "y"
         },
         {
          "font": {
           "color": "#FFFFFF",
           "size": 20
          },
          "showarrow": false,
          "text": "",
          "x": "Evening",
          "xref": "x",
          "y": "Saturday",
          "yref": "y"
         },
         {
          "font": {
           "color": "#FFFFFF",
           "size": 20
          },
          "showarrow": false,
          "text": "Safety",
          "x": "Morning",
          "xref": "x",
          "y": "Friday",
          "yref": "y"
         },
         {
          "font": {
           "color": "#FFFFFF",
           "size": 20
          },
          "showarrow": false,
          "text": "Deadline",
          "x": "Afternoon",
          "xref": "x",
          "y": "Friday",
          "yref": "y"
         },
         {
          "font": {
           "color": "#FFFFFF",
           "size": 20
          },
          "showarrow": false,
          "text": "",
          "x": "Evening",
          "xref": "x",
          "y": "Friday",
          "yref": "y"
         },
         {
          "font": {
           "color": "#FFFFFF",
           "size": 20
          },
          "showarrow": false,
          "text": "",
          "x": "Morning",
          "xref": "x",
          "y": "Thursday",
          "yref": "y"
         },
         {
          "font": {
           "color": "#FFFFFF",
           "size": 20
          },
          "showarrow": false,
          "text": "",
          "x": "Afternoon",
          "xref": "x",
          "y": "Thursday",
          "yref": "y"
         },
         {
          "font": {
           "color": "#FFFFFF",
           "size": 20
          },
          "showarrow": false,
          "text": "Finance",
          "x": "Evening",
          "xref": "x",
          "y": "Thursday",
          "yref": "y"
         },
         {
          "font": {
           "color": "#000000",
           "size": 20
          },
          "showarrow": false,
          "text": "Finance",
          "x": "Morning",
          "xref": "x",
          "y": "Wednesday",
          "yref": "y"
         },
         {
          "font": {
           "color": "#000000",
           "size": 20
          },
          "showarrow": false,
          "text": "Health",
          "x": "Afternoon",
          "xref": "x",
          "y": "Wednesday",
          "yref": "y"
         },
         {
          "font": {
           "color": "#000000",
           "size": 20
          },
          "showarrow": false,
          "text": "",
          "x": "Evening",
          "xref": "x",
          "y": "Wednesday",
          "yref": "y"
         },
         {
          "font": {
           "color": "#000000",
           "size": 20
          },
          "showarrow": false,
          "text": "",
          "x": "Morning",
          "xref": "x",
          "y": "Tuesday",
          "yref": "y"
         },
         {
          "font": {
           "color": "#FFFFFF",
           "size": 20
          },
          "showarrow": false,
          "text": "Safety",
          "x": "Afternoon",
          "xref": "x",
          "y": "Tuesday",
          "yref": "y"
         },
         {
          "font": {
           "color": "#FFFFFF",
           "size": 20
          },
          "showarrow": false,
          "text": "Health",
          "x": "Evening",
          "xref": "x",
          "y": "Tuesday",
          "yref": "y"
         },
         {
          "font": {
           "color": "#FFFFFF",
           "size": 20
          },
          "showarrow": false,
          "text": "",
          "x": "Morning",
          "xref": "x",
          "y": "Monday",
          "yref": "y"
         },
         {
          "font": {
           "color": "#FFFFFF",
           "size": 20
          },
          "showarrow": false,
          "text": "Deadline",
          "x": "Afternoon",
          "xref": "x",
          "y": "Monday",
          "yref": "y"
         },
         {
          "font": {
           "color": "#FFFFFF",
           "size": 20
          },
          "showarrow": false,
          "text": "Safety",
          "x": "Evening",
          "xref": "x",
          "y": "Monday",
          "yref": "y"
         }
        ],
        "template": {
         "data": {
          "bar": [
           {
            "error_x": {
             "color": "#2a3f5f"
            },
            "error_y": {
             "color": "#2a3f5f"
            },
            "marker": {
             "line": {
              "color": "#E5ECF6",
              "width": 0.5
             }
            },
            "type": "bar"
           }
          ],
          "barpolar": [
           {
            "marker": {
             "line": {
              "color": "#E5ECF6",
              "width": 0.5
             }
            },
            "type": "barpolar"
           }
          ],
          "carpet": [
           {
            "aaxis": {
             "endlinecolor": "#2a3f5f",
             "gridcolor": "white",
             "linecolor": "white",
             "minorgridcolor": "white",
             "startlinecolor": "#2a3f5f"
            },
            "baxis": {
             "endlinecolor": "#2a3f5f",
             "gridcolor": "white",
             "linecolor": "white",
             "minorgridcolor": "white",
             "startlinecolor": "#2a3f5f"
            },
            "type": "carpet"
           }
          ],
          "choropleth": [
           {
            "colorbar": {
             "outlinewidth": 0,
             "ticks": ""
            },
            "type": "choropleth"
           }
          ],
          "contour": [
           {
            "colorbar": {
             "outlinewidth": 0,
             "ticks": ""
            },
            "colorscale": [
             [
              0,
              "#0d0887"
             ],
             [
              0.1111111111111111,
              "#46039f"
             ],
             [
              0.2222222222222222,
              "#7201a8"
             ],
             [
              0.3333333333333333,
              "#9c179e"
             ],
             [
              0.4444444444444444,
              "#bd3786"
             ],
             [
              0.5555555555555556,
              "#d8576b"
             ],
             [
              0.6666666666666666,
              "#ed7953"
             ],
             [
              0.7777777777777778,
              "#fb9f3a"
             ],
             [
              0.8888888888888888,
              "#fdca26"
             ],
             [
              1,
              "#f0f921"
             ]
            ],
            "type": "contour"
           }
          ],
          "contourcarpet": [
           {
            "colorbar": {
             "outlinewidth": 0,
             "ticks": ""
            },
            "type": "contourcarpet"
           }
          ],
          "heatmap": [
           {
            "colorbar": {
             "outlinewidth": 0,
             "ticks": ""
            },
            "colorscale": [
             [
              0,
              "#0d0887"
             ],
             [
              0.1111111111111111,
              "#46039f"
             ],
             [
              0.2222222222222222,
              "#7201a8"
             ],
             [
              0.3333333333333333,
              "#9c179e"
             ],
             [
              0.4444444444444444,
              "#bd3786"
             ],
             [
              0.5555555555555556,
              "#d8576b"
             ],
             [
              0.6666666666666666,
              "#ed7953"
             ],
             [
              0.7777777777777778,
              "#fb9f3a"
             ],
             [
              0.8888888888888888,
              "#fdca26"
             ],
             [
              1,
              "#f0f921"
             ]
            ],
            "type": "heatmap"
           }
          ],
          "heatmapgl": [
           {
            "colorbar": {
             "outlinewidth": 0,
             "ticks": ""
            },
            "colorscale": [
             [
              0,
              "#0d0887"
             ],
             [
              0.1111111111111111,
              "#46039f"
             ],
             [
              0.2222222222222222,
              "#7201a8"
             ],
             [
              0.3333333333333333,
              "#9c179e"
             ],
             [
              0.4444444444444444,
              "#bd3786"
             ],
             [
              0.5555555555555556,
              "#d8576b"
             ],
             [
              0.6666666666666666,
              "#ed7953"
             ],
             [
              0.7777777777777778,
              "#fb9f3a"
             ],
             [
              0.8888888888888888,
              "#fdca26"
             ],
             [
              1,
              "#f0f921"
             ]
            ],
            "type": "heatmapgl"
           }
          ],
          "histogram": [
           {
            "marker": {
             "colorbar": {
              "outlinewidth": 0,
              "ticks": ""
             }
            },
            "type": "histogram"
           }
          ],
          "histogram2d": [
           {
            "colorbar": {
             "outlinewidth": 0,
             "ticks": ""
            },
            "colorscale": [
             [
              0,
              "#0d0887"
             ],
             [
              0.1111111111111111,
              "#46039f"
             ],
             [
              0.2222222222222222,
              "#7201a8"
             ],
             [
              0.3333333333333333,
              "#9c179e"
             ],
             [
              0.4444444444444444,
              "#bd3786"
             ],
             [
              0.5555555555555556,
              "#d8576b"
             ],
             [
              0.6666666666666666,
              "#ed7953"
             ],
             [
              0.7777777777777778,
              "#fb9f3a"
             ],
             [
              0.8888888888888888,
              "#fdca26"
             ],
             [
              1,
              "#f0f921"
             ]
            ],
            "type": "histogram2d"
           }
          ],
          "histogram2dcontour": [
           {
            "colorbar": {
             "outlinewidth": 0,
             "ticks": ""
            },
            "colorscale": [
             [
              0,
              "#0d0887"
             ],
             [
              0.1111111111111111,
              "#46039f"
             ],
             [
              0.2222222222222222,
              "#7201a8"
             ],
             [
              0.3333333333333333,
              "#9c179e"
             ],
             [
              0.4444444444444444,
              "#bd3786"
             ],
             [
              0.5555555555555556,
              "#d8576b"
             ],
             [
              0.6666666666666666,
              "#ed7953"
             ],
             [
              0.7777777777777778,
              "#fb9f3a"
             ],
             [
              0.8888888888888888,
              "#fdca26"
             ],
             [
              1,
              "#f0f921"
             ]
            ],
            "type": "histogram2dcontour"
           }
          ],
          "mesh3d": [
           {
            "colorbar": {
             "outlinewidth": 0,
             "ticks": ""
            },
            "type": "mesh3d"
           }
          ],
          "parcoords": [
           {
            "line": {
             "colorbar": {
              "outlinewidth": 0,
              "ticks": ""
             }
            },
            "type": "parcoords"
           }
          ],
          "scatter": [
           {
            "marker": {
             "colorbar": {
              "outlinewidth": 0,
              "ticks": ""
             }
            },
            "type": "scatter"
           }
          ],
          "scatter3d": [
           {
            "line": {
             "colorbar": {
              "outlinewidth": 0,
              "ticks": ""
             }
            },
            "marker": {
             "colorbar": {
              "outlinewidth": 0,
              "ticks": ""
             }
            },
            "type": "scatter3d"
           }
          ],
          "scattercarpet": [
           {
            "marker": {
             "colorbar": {
              "outlinewidth": 0,
              "ticks": ""
             }
            },
            "type": "scattercarpet"
           }
          ],
          "scattergeo": [
           {
            "marker": {
             "colorbar": {
              "outlinewidth": 0,
              "ticks": ""
             }
            },
            "type": "scattergeo"
           }
          ],
          "scattergl": [
           {
            "marker": {
             "colorbar": {
              "outlinewidth": 0,
              "ticks": ""
             }
            },
            "type": "scattergl"
           }
          ],
          "scattermapbox": [
           {
            "marker": {
             "colorbar": {
              "outlinewidth": 0,
              "ticks": ""
             }
            },
            "type": "scattermapbox"
           }
          ],
          "scatterpolar": [
           {
            "marker": {
             "colorbar": {
              "outlinewidth": 0,
              "ticks": ""
             }
            },
            "type": "scatterpolar"
           }
          ],
          "scatterpolargl": [
           {
            "marker": {
             "colorbar": {
              "outlinewidth": 0,
              "ticks": ""
             }
            },
            "type": "scatterpolargl"
           }
          ],
          "scatterternary": [
           {
            "marker": {
             "colorbar": {
              "outlinewidth": 0,
              "ticks": ""
             }
            },
            "type": "scatterternary"
           }
          ],
          "surface": [
           {
            "colorbar": {
             "outlinewidth": 0,
             "ticks": ""
            },
            "colorscale": [
             [
              0,
              "#0d0887"
             ],
             [
              0.1111111111111111,
              "#46039f"
             ],
             [
              0.2222222222222222,
              "#7201a8"
             ],
             [
              0.3333333333333333,
              "#9c179e"
             ],
             [
              0.4444444444444444,
              "#bd3786"
             ],
             [
              0.5555555555555556,
              "#d8576b"
             ],
             [
              0.6666666666666666,
              "#ed7953"
             ],
             [
              0.7777777777777778,
              "#fb9f3a"
             ],
             [
              0.8888888888888888,
              "#fdca26"
             ],
             [
              1,
              "#f0f921"
             ]
            ],
            "type": "surface"
           }
          ],
          "table": [
           {
            "cells": {
             "fill": {
              "color": "#EBF0F8"
             },
             "line": {
              "color": "white"
             }
            },
            "header": {
             "fill": {
              "color": "#C8D4E3"
             },
             "line": {
              "color": "white"
             }
            },
            "type": "table"
           }
          ]
         },
         "layout": {
          "annotationdefaults": {
           "arrowcolor": "#2a3f5f",
           "arrowhead": 0,
           "arrowwidth": 1
          },
          "colorscale": {
           "diverging": [
            [
             0,
             "#8e0152"
            ],
            [
             0.1,
             "#c51b7d"
            ],
            [
             0.2,
             "#de77ae"
            ],
            [
             0.3,
             "#f1b6da"
            ],
            [
             0.4,
             "#fde0ef"
            ],
            [
             0.5,
             "#f7f7f7"
            ],
            [
             0.6,
             "#e6f5d0"
            ],
            [
             0.7,
             "#b8e186"
            ],
            [
             0.8,
             "#7fbc41"
            ],
            [
             0.9,
             "#4d9221"
            ],
            [
             1,
             "#276419"
            ]
           ],
           "sequential": [
            [
             0,
             "#0d0887"
            ],
            [
             0.1111111111111111,
             "#46039f"
            ],
            [
             0.2222222222222222,
             "#7201a8"
            ],
            [
             0.3333333333333333,
             "#9c179e"
            ],
            [
             0.4444444444444444,
             "#bd3786"
            ],
            [
             0.5555555555555556,
             "#d8576b"
            ],
            [
             0.6666666666666666,
             "#ed7953"
            ],
            [
             0.7777777777777778,
             "#fb9f3a"
            ],
            [
             0.8888888888888888,
             "#fdca26"
            ],
            [
             1,
             "#f0f921"
            ]
           ],
           "sequentialminus": [
            [
             0,
             "#0d0887"
            ],
            [
             0.1111111111111111,
             "#46039f"
            ],
            [
             0.2222222222222222,
             "#7201a8"
            ],
            [
             0.3333333333333333,
             "#9c179e"
            ],
            [
             0.4444444444444444,
             "#bd3786"
            ],
            [
             0.5555555555555556,
             "#d8576b"
            ],
            [
             0.6666666666666666,
             "#ed7953"
            ],
            [
             0.7777777777777778,
             "#fb9f3a"
            ],
            [
             0.8888888888888888,
             "#fdca26"
            ],
            [
             1,
             "#f0f921"
            ]
           ]
          },
          "colorway": [
           "#636efa",
           "#EF553B",
           "#00cc96",
           "#ab63fa",
           "#FFA15A",
           "#19d3f3",
           "#FF6692",
           "#B6E880",
           "#FF97FF",
           "#FECB52"
          ],
          "font": {
           "color": "#2a3f5f"
          },
          "geo": {
           "bgcolor": "white",
           "lakecolor": "white",
           "landcolor": "#E5ECF6",
           "showlakes": true,
           "showland": true,
           "subunitcolor": "white"
          },
          "hoverlabel": {
           "align": "left"
          },
          "hovermode": "closest",
          "mapbox": {
           "style": "light"
          },
          "paper_bgcolor": "white",
          "plot_bgcolor": "#E5ECF6",
          "polar": {
           "angularaxis": {
            "gridcolor": "white",
            "linecolor": "white",
            "ticks": ""
           },
           "bgcolor": "#E5ECF6",
           "radialaxis": {
            "gridcolor": "white",
            "linecolor": "white",
            "ticks": ""
           }
          },
          "scene": {
           "xaxis": {
            "backgroundcolor": "#E5ECF6",
            "gridcolor": "white",
            "gridwidth": 2,
            "linecolor": "white",
            "showbackground": true,
            "ticks": "",
            "zerolinecolor": "white"
           },
           "yaxis": {
            "backgroundcolor": "#E5ECF6",
            "gridcolor": "white",
            "gridwidth": 2,
            "linecolor": "white",
            "showbackground": true,
            "ticks": "",
            "zerolinecolor": "white"
           },
           "zaxis": {
            "backgroundcolor": "#E5ECF6",
            "gridcolor": "white",
            "gridwidth": 2,
            "linecolor": "white",
            "showbackground": true,
            "ticks": "",
            "zerolinecolor": "white"
           }
          },
          "shapedefaults": {
           "line": {
            "color": "#2a3f5f"
           }
          },
          "ternary": {
           "aaxis": {
            "gridcolor": "white",
            "linecolor": "white",
            "ticks": ""
           },
           "baxis": {
            "gridcolor": "white",
            "linecolor": "white",
            "ticks": ""
           },
           "bgcolor": "#E5ECF6",
           "caxis": {
            "gridcolor": "white",
            "linecolor": "white",
            "ticks": ""
           }
          },
          "title": {
           "x": 0.05
          },
          "xaxis": {
           "automargin": true,
           "gridcolor": "white",
           "linecolor": "white",
           "ticks": "",
           "zerolinecolor": "white",
           "zerolinewidth": 2
          },
          "yaxis": {
           "automargin": true,
           "gridcolor": "white",
           "linecolor": "white",
           "ticks": "",
           "zerolinecolor": "white",
           "zerolinewidth": 2
          }
         }
        },
        "xaxis": {
         "dtick": 1,
         "gridcolor": "rgb(0, 0, 0)",
         "side": "top",
         "ticks": ""
        },
        "yaxis": {
         "dtick": 1,
         "ticks": "",
         "ticksuffix": "  "
        }
       }
      },
      "text/html": [
       "<div>\n",
       "        \n",
       "        \n",
       "            <div id=\"24672355-5cf1-4330-8c5c-e958599c13a7\" class=\"plotly-graph-div\" style=\"height:525px; width:100%;\"></div>\n",
       "            <script type=\"text/javascript\">\n",
       "                require([\"plotly\"], function(Plotly) {\n",
       "                    window.PLOTLYENV=window.PLOTLYENV || {};\n",
       "                    \n",
       "                if (document.getElementById(\"24672355-5cf1-4330-8c5c-e958599c13a7\")) {\n",
       "                    Plotly.newPlot(\n",
       "                        '24672355-5cf1-4330-8c5c-e958599c13a7',\n",
       "                        [{\"colorscale\": [[0.0, \"#440154\"], [0.1111111111111111, \"#482878\"], [0.2222222222222222, \"#3e4989\"], [0.3333333333333333, \"#31688e\"], [0.4444444444444444, \"#26828e\"], [0.5555555555555556, \"#1f9e89\"], [0.6666666666666666, \"#35b779\"], [0.7777777777777778, \"#6ece58\"], [0.8888888888888888, \"#b5de2b\"], [1.0, \"#fde725\"]], \"hoverinfo\": \"text\", \"reversescale\": false, \"showscale\": false, \"text\": [[\"Home\", \"\", \"\"], [\"Work\", \"\", \"\"], [\"Work\", \"Home\", \"\"], [\"\", \"\", \"On the road\"], [\"On the road\", \"Others\", \"\"], [\"\", \"Home\", \"Others\"], [\"\", \"On the road\", \"Work\"]], \"type\": \"heatmap\", \"x\": [\"Morning\", \"Afternoon\", \"Evening\"], \"y\": [\"Sunday\", \"Saturday\", \"Friday\", \"Thursday\", \"Wednesday\", \"Tuesday\", \"Monday\"], \"z\": [[0.05, 0.1, 0.15], [0.2, 0.25, 0.3], [0.35, 0.4, 0.45], [0.1, 0.3, 0.5], [1.0, 0.8, 0.6], [0.6, 0.4, 0.2], [0.3, 0.5, 0.01]]}],\n",
       "                        {\"annotations\": [{\"font\": {\"color\": \"#FFFFFF\", \"size\": 20}, \"showarrow\": false, \"text\": \"Finance\", \"x\": \"Morning\", \"xref\": \"x\", \"y\": \"Sunday\", \"yref\": \"y\"}, {\"font\": {\"color\": \"#FFFFFF\", \"size\": 20}, \"showarrow\": false, \"text\": \"\", \"x\": \"Afternoon\", \"xref\": \"x\", \"y\": \"Sunday\", \"yref\": \"y\"}, {\"font\": {\"color\": \"#FFFFFF\", \"size\": 20}, \"showarrow\": false, \"text\": \"\", \"x\": \"Evening\", \"xref\": \"x\", \"y\": \"Sunday\", \"yref\": \"y\"}, {\"font\": {\"color\": \"#FFFFFF\", \"size\": 20}, \"showarrow\": false, \"text\": \"Health\", \"x\": \"Morning\", \"xref\": \"x\", \"y\": \"Saturday\", \"yref\": \"y\"}, {\"font\": {\"color\": \"#FFFFFF\", \"size\": 20}, \"showarrow\": false, \"text\": \"\", \"x\": \"Afternoon\", \"xref\": \"x\", \"y\": \"Saturday\", \"yref\": \"y\"}, {\"font\": {\"color\": \"#FFFFFF\", \"size\": 20}, \"showarrow\": false, \"text\": \"\", \"x\": \"Evening\", \"xref\": \"x\", \"y\": \"Saturday\", \"yref\": \"y\"}, {\"font\": {\"color\": \"#FFFFFF\", \"size\": 20}, \"showarrow\": false, \"text\": \"Safety\", \"x\": \"Morning\", \"xref\": \"x\", \"y\": \"Friday\", \"yref\": \"y\"}, {\"font\": {\"color\": \"#FFFFFF\", \"size\": 20}, \"showarrow\": false, \"text\": \"Deadline\", \"x\": \"Afternoon\", \"xref\": \"x\", \"y\": \"Friday\", \"yref\": \"y\"}, {\"font\": {\"color\": \"#FFFFFF\", \"size\": 20}, \"showarrow\": false, \"text\": \"\", \"x\": \"Evening\", \"xref\": \"x\", \"y\": \"Friday\", \"yref\": \"y\"}, {\"font\": {\"color\": \"#FFFFFF\", \"size\": 20}, \"showarrow\": false, \"text\": \"\", \"x\": \"Morning\", \"xref\": \"x\", \"y\": \"Thursday\", \"yref\": \"y\"}, {\"font\": {\"color\": \"#FFFFFF\", \"size\": 20}, \"showarrow\": false, \"text\": \"\", \"x\": \"Afternoon\", \"xref\": \"x\", \"y\": \"Thursday\", \"yref\": \"y\"}, {\"font\": {\"color\": \"#FFFFFF\", \"size\": 20}, \"showarrow\": false, \"text\": \"Finance\", \"x\": \"Evening\", \"xref\": \"x\", \"y\": \"Thursday\", \"yref\": \"y\"}, {\"font\": {\"color\": \"#000000\", \"size\": 20}, \"showarrow\": false, \"text\": \"Finance\", \"x\": \"Morning\", \"xref\": \"x\", \"y\": \"Wednesday\", \"yref\": \"y\"}, {\"font\": {\"color\": \"#000000\", \"size\": 20}, \"showarrow\": false, \"text\": \"Health\", \"x\": \"Afternoon\", \"xref\": \"x\", \"y\": \"Wednesday\", \"yref\": \"y\"}, {\"font\": {\"color\": \"#000000\", \"size\": 20}, \"showarrow\": false, \"text\": \"\", \"x\": \"Evening\", \"xref\": \"x\", \"y\": \"Wednesday\", \"yref\": \"y\"}, {\"font\": {\"color\": \"#000000\", \"size\": 20}, \"showarrow\": false, \"text\": \"\", \"x\": \"Morning\", \"xref\": \"x\", \"y\": \"Tuesday\", \"yref\": \"y\"}, {\"font\": {\"color\": \"#FFFFFF\", \"size\": 20}, \"showarrow\": false, \"text\": \"Safety\", \"x\": \"Afternoon\", \"xref\": \"x\", \"y\": \"Tuesday\", \"yref\": \"y\"}, {\"font\": {\"color\": \"#FFFFFF\", \"size\": 20}, \"showarrow\": false, \"text\": \"Health\", \"x\": \"Evening\", \"xref\": \"x\", \"y\": \"Tuesday\", \"yref\": \"y\"}, {\"font\": {\"color\": \"#FFFFFF\", \"size\": 20}, \"showarrow\": false, \"text\": \"\", \"x\": \"Morning\", \"xref\": \"x\", \"y\": \"Monday\", \"yref\": \"y\"}, {\"font\": {\"color\": \"#FFFFFF\", \"size\": 20}, \"showarrow\": false, \"text\": \"Deadline\", \"x\": \"Afternoon\", \"xref\": \"x\", \"y\": \"Monday\", \"yref\": \"y\"}, {\"font\": {\"color\": \"#FFFFFF\", \"size\": 20}, \"showarrow\": false, \"text\": \"Safety\", \"x\": \"Evening\", \"xref\": \"x\", \"y\": \"Monday\", \"yref\": \"y\"}], \"template\": {\"data\": {\"bar\": [{\"error_x\": {\"color\": \"#2a3f5f\"}, \"error_y\": {\"color\": \"#2a3f5f\"}, \"marker\": {\"line\": {\"color\": \"#E5ECF6\", \"width\": 0.5}}, \"type\": \"bar\"}], \"barpolar\": [{\"marker\": {\"line\": {\"color\": \"#E5ECF6\", \"width\": 0.5}}, \"type\": \"barpolar\"}], \"carpet\": [{\"aaxis\": {\"endlinecolor\": \"#2a3f5f\", \"gridcolor\": \"white\", \"linecolor\": \"white\", \"minorgridcolor\": \"white\", \"startlinecolor\": \"#2a3f5f\"}, \"baxis\": {\"endlinecolor\": \"#2a3f5f\", \"gridcolor\": \"white\", \"linecolor\": \"white\", \"minorgridcolor\": \"white\", \"startlinecolor\": \"#2a3f5f\"}, \"type\": \"carpet\"}], \"choropleth\": [{\"colorbar\": {\"outlinewidth\": 0, \"ticks\": \"\"}, \"type\": \"choropleth\"}], \"contour\": [{\"colorbar\": {\"outlinewidth\": 0, \"ticks\": \"\"}, \"colorscale\": [[0.0, \"#0d0887\"], [0.1111111111111111, \"#46039f\"], [0.2222222222222222, \"#7201a8\"], [0.3333333333333333, \"#9c179e\"], [0.4444444444444444, \"#bd3786\"], [0.5555555555555556, \"#d8576b\"], [0.6666666666666666, \"#ed7953\"], [0.7777777777777778, \"#fb9f3a\"], [0.8888888888888888, \"#fdca26\"], [1.0, \"#f0f921\"]], \"type\": \"contour\"}], \"contourcarpet\": [{\"colorbar\": {\"outlinewidth\": 0, \"ticks\": \"\"}, \"type\": \"contourcarpet\"}], \"heatmap\": [{\"colorbar\": {\"outlinewidth\": 0, \"ticks\": \"\"}, \"colorscale\": [[0.0, \"#0d0887\"], [0.1111111111111111, \"#46039f\"], [0.2222222222222222, \"#7201a8\"], [0.3333333333333333, \"#9c179e\"], [0.4444444444444444, \"#bd3786\"], [0.5555555555555556, \"#d8576b\"], [0.6666666666666666, \"#ed7953\"], [0.7777777777777778, \"#fb9f3a\"], [0.8888888888888888, \"#fdca26\"], [1.0, \"#f0f921\"]], \"type\": \"heatmap\"}], \"heatmapgl\": [{\"colorbar\": {\"outlinewidth\": 0, \"ticks\": \"\"}, \"colorscale\": [[0.0, \"#0d0887\"], [0.1111111111111111, \"#46039f\"], [0.2222222222222222, \"#7201a8\"], [0.3333333333333333, \"#9c179e\"], [0.4444444444444444, \"#bd3786\"], [0.5555555555555556, \"#d8576b\"], [0.6666666666666666, \"#ed7953\"], [0.7777777777777778, \"#fb9f3a\"], [0.8888888888888888, \"#fdca26\"], [1.0, \"#f0f921\"]], \"type\": \"heatmapgl\"}], \"histogram\": [{\"marker\": {\"colorbar\": {\"outlinewidth\": 0, \"ticks\": \"\"}}, \"type\": \"histogram\"}], \"histogram2d\": [{\"colorbar\": {\"outlinewidth\": 0, \"ticks\": \"\"}, \"colorscale\": [[0.0, \"#0d0887\"], [0.1111111111111111, \"#46039f\"], [0.2222222222222222, \"#7201a8\"], [0.3333333333333333, \"#9c179e\"], [0.4444444444444444, \"#bd3786\"], [0.5555555555555556, \"#d8576b\"], [0.6666666666666666, \"#ed7953\"], [0.7777777777777778, \"#fb9f3a\"], [0.8888888888888888, \"#fdca26\"], [1.0, \"#f0f921\"]], \"type\": \"histogram2d\"}], \"histogram2dcontour\": [{\"colorbar\": {\"outlinewidth\": 0, \"ticks\": \"\"}, \"colorscale\": [[0.0, \"#0d0887\"], [0.1111111111111111, \"#46039f\"], [0.2222222222222222, \"#7201a8\"], [0.3333333333333333, \"#9c179e\"], [0.4444444444444444, \"#bd3786\"], [0.5555555555555556, \"#d8576b\"], [0.6666666666666666, \"#ed7953\"], [0.7777777777777778, \"#fb9f3a\"], [0.8888888888888888, \"#fdca26\"], [1.0, \"#f0f921\"]], \"type\": \"histogram2dcontour\"}], \"mesh3d\": [{\"colorbar\": {\"outlinewidth\": 0, \"ticks\": \"\"}, \"type\": \"mesh3d\"}], \"parcoords\": [{\"line\": {\"colorbar\": {\"outlinewidth\": 0, \"ticks\": \"\"}}, \"type\": \"parcoords\"}], \"scatter\": [{\"marker\": {\"colorbar\": {\"outlinewidth\": 0, \"ticks\": \"\"}}, \"type\": \"scatter\"}], \"scatter3d\": [{\"line\": {\"colorbar\": {\"outlinewidth\": 0, \"ticks\": \"\"}}, \"marker\": {\"colorbar\": {\"outlinewidth\": 0, \"ticks\": \"\"}}, \"type\": \"scatter3d\"}], \"scattercarpet\": [{\"marker\": {\"colorbar\": {\"outlinewidth\": 0, \"ticks\": \"\"}}, \"type\": \"scattercarpet\"}], \"scattergeo\": [{\"marker\": {\"colorbar\": {\"outlinewidth\": 0, \"ticks\": \"\"}}, \"type\": \"scattergeo\"}], \"scattergl\": [{\"marker\": {\"colorbar\": {\"outlinewidth\": 0, \"ticks\": \"\"}}, \"type\": \"scattergl\"}], \"scattermapbox\": [{\"marker\": {\"colorbar\": {\"outlinewidth\": 0, \"ticks\": \"\"}}, \"type\": \"scattermapbox\"}], \"scatterpolar\": [{\"marker\": {\"colorbar\": {\"outlinewidth\": 0, \"ticks\": \"\"}}, \"type\": \"scatterpolar\"}], \"scatterpolargl\": [{\"marker\": {\"colorbar\": {\"outlinewidth\": 0, \"ticks\": \"\"}}, \"type\": \"scatterpolargl\"}], \"scatterternary\": [{\"marker\": {\"colorbar\": {\"outlinewidth\": 0, \"ticks\": \"\"}}, \"type\": \"scatterternary\"}], \"surface\": [{\"colorbar\": {\"outlinewidth\": 0, \"ticks\": \"\"}, \"colorscale\": [[0.0, \"#0d0887\"], [0.1111111111111111, \"#46039f\"], [0.2222222222222222, \"#7201a8\"], [0.3333333333333333, \"#9c179e\"], [0.4444444444444444, \"#bd3786\"], [0.5555555555555556, \"#d8576b\"], [0.6666666666666666, \"#ed7953\"], [0.7777777777777778, \"#fb9f3a\"], [0.8888888888888888, \"#fdca26\"], [1.0, \"#f0f921\"]], \"type\": \"surface\"}], \"table\": [{\"cells\": {\"fill\": {\"color\": \"#EBF0F8\"}, \"line\": {\"color\": \"white\"}}, \"header\": {\"fill\": {\"color\": \"#C8D4E3\"}, \"line\": {\"color\": \"white\"}}, \"type\": \"table\"}]}, \"layout\": {\"annotationdefaults\": {\"arrowcolor\": \"#2a3f5f\", \"arrowhead\": 0, \"arrowwidth\": 1}, \"colorscale\": {\"diverging\": [[0, \"#8e0152\"], [0.1, \"#c51b7d\"], [0.2, \"#de77ae\"], [0.3, \"#f1b6da\"], [0.4, \"#fde0ef\"], [0.5, \"#f7f7f7\"], [0.6, \"#e6f5d0\"], [0.7, \"#b8e186\"], [0.8, \"#7fbc41\"], [0.9, \"#4d9221\"], [1, \"#276419\"]], \"sequential\": [[0.0, \"#0d0887\"], [0.1111111111111111, \"#46039f\"], [0.2222222222222222, \"#7201a8\"], [0.3333333333333333, \"#9c179e\"], [0.4444444444444444, \"#bd3786\"], [0.5555555555555556, \"#d8576b\"], [0.6666666666666666, \"#ed7953\"], [0.7777777777777778, \"#fb9f3a\"], [0.8888888888888888, \"#fdca26\"], [1.0, \"#f0f921\"]], \"sequentialminus\": [[0.0, \"#0d0887\"], [0.1111111111111111, \"#46039f\"], [0.2222222222222222, \"#7201a8\"], [0.3333333333333333, \"#9c179e\"], [0.4444444444444444, \"#bd3786\"], [0.5555555555555556, \"#d8576b\"], [0.6666666666666666, \"#ed7953\"], [0.7777777777777778, \"#fb9f3a\"], [0.8888888888888888, \"#fdca26\"], [1.0, \"#f0f921\"]]}, \"colorway\": [\"#636efa\", \"#EF553B\", \"#00cc96\", \"#ab63fa\", \"#FFA15A\", \"#19d3f3\", \"#FF6692\", \"#B6E880\", \"#FF97FF\", \"#FECB52\"], \"font\": {\"color\": \"#2a3f5f\"}, \"geo\": {\"bgcolor\": \"white\", \"lakecolor\": \"white\", \"landcolor\": \"#E5ECF6\", \"showlakes\": true, \"showland\": true, \"subunitcolor\": \"white\"}, \"hoverlabel\": {\"align\": \"left\"}, \"hovermode\": \"closest\", \"mapbox\": {\"style\": \"light\"}, \"paper_bgcolor\": \"white\", \"plot_bgcolor\": \"#E5ECF6\", \"polar\": {\"angularaxis\": {\"gridcolor\": \"white\", \"linecolor\": \"white\", \"ticks\": \"\"}, \"bgcolor\": \"#E5ECF6\", \"radialaxis\": {\"gridcolor\": \"white\", \"linecolor\": \"white\", \"ticks\": \"\"}}, \"scene\": {\"xaxis\": {\"backgroundcolor\": \"#E5ECF6\", \"gridcolor\": \"white\", \"gridwidth\": 2, \"linecolor\": \"white\", \"showbackground\": true, \"ticks\": \"\", \"zerolinecolor\": \"white\"}, \"yaxis\": {\"backgroundcolor\": \"#E5ECF6\", \"gridcolor\": \"white\", \"gridwidth\": 2, \"linecolor\": \"white\", \"showbackground\": true, \"ticks\": \"\", \"zerolinecolor\": \"white\"}, \"zaxis\": {\"backgroundcolor\": \"#E5ECF6\", \"gridcolor\": \"white\", \"gridwidth\": 2, \"linecolor\": \"white\", \"showbackground\": true, \"ticks\": \"\", \"zerolinecolor\": \"white\"}}, \"shapedefaults\": {\"line\": {\"color\": \"#2a3f5f\"}}, \"ternary\": {\"aaxis\": {\"gridcolor\": \"white\", \"linecolor\": \"white\", \"ticks\": \"\"}, \"baxis\": {\"gridcolor\": \"white\", \"linecolor\": \"white\", \"ticks\": \"\"}, \"bgcolor\": \"#E5ECF6\", \"caxis\": {\"gridcolor\": \"white\", \"linecolor\": \"white\", \"ticks\": \"\"}}, \"title\": {\"x\": 0.05}, \"xaxis\": {\"automargin\": true, \"gridcolor\": \"white\", \"linecolor\": \"white\", \"ticks\": \"\", \"zerolinecolor\": \"white\", \"zerolinewidth\": 2}, \"yaxis\": {\"automargin\": true, \"gridcolor\": \"white\", \"linecolor\": \"white\", \"ticks\": \"\", \"zerolinecolor\": \"white\", \"zerolinewidth\": 2}}}, \"xaxis\": {\"dtick\": 1, \"gridcolor\": \"rgb(0, 0, 0)\", \"side\": \"top\", \"ticks\": \"\"}, \"yaxis\": {\"dtick\": 1, \"ticks\": \"\", \"ticksuffix\": \"  \"}},\n",
       "                        {\"responsive\": true}\n",
       "                    ).then(function(){\n",
       "                            \n",
       "var gd = document.getElementById('24672355-5cf1-4330-8c5c-e958599c13a7');\n",
       "var x = new MutationObserver(function (mutations, observer) {{\n",
       "        var display = window.getComputedStyle(gd).display;\n",
       "        if (!display || display === 'none') {{\n",
       "            console.log([gd, 'removed!']);\n",
       "            Plotly.purge(gd);\n",
       "            observer.disconnect();\n",
       "        }}\n",
       "}});\n",
       "\n",
       "// Listen for the removal of the full notebook cells\n",
       "var notebookContainer = gd.closest('#notebook-container');\n",
       "if (notebookContainer) {{\n",
       "    x.observe(notebookContainer, {childList: true});\n",
       "}}\n",
       "\n",
       "// Listen for the clearing of the current output cell\n",
       "var outputEl = gd.closest('.output');\n",
       "if (outputEl) {{\n",
       "    x.observe(outputEl, {childList: true});\n",
       "}}\n",
       "\n",
       "                        })\n",
       "                };\n",
       "                });\n",
       "            </script>\n",
       "        </div>"
      ]
     },
     "metadata": {},
     "output_type": "display_data"
    }
   ],
   "source": [
    "import plotly.figure_factory as ff\n",
    "z = [[0.05,0.1,0.15],\n",
    "     [0.2,0.25 ,0.3],\n",
    "     [0.35,0.4,0.45],\n",
    "    [0.1, 0.3, 0.5],\n",
    "     [1.0, 0.8, 0.6],\n",
    "     [0.6, 0.4, 0.2],\n",
    "    [0.3,0.5,0.01]]\n",
    "\n",
    "x = ['Morning', 'Afternoon', 'Evening']\n",
    "y = ['Monday', 'Tuesday', 'Wednesday', 'Thursday', 'Friday', 'Saturday', 'Sunday']\n",
    "y.reverse()\n",
    "z_text = [['Finance', '', ''],\n",
    "          ['Health', '', ''],\n",
    "          ['Safety', 'Deadline', ''],\n",
    "         ['', '', 'Finance'],\n",
    "          ['Finance', 'Health', ''],\n",
    "          ['', 'Safety', 'Health'],\n",
    "         ['', 'Deadline', 'Safety']]\n",
    "location = ['Home', '', '','Work', '', '','On the road', 'On the road', '',\n",
    "         '', '', 'On the road','Work', 'Home', '', '', 'Work', 'Home', '', 'Home', 'Home']\n",
    "\n",
    "z_text1 = [['Home', '', ''],\n",
    "          ['Work', '', ''],\n",
    "          ['Work', 'Home', ''],\n",
    "         ['', '', 'On the road'],\n",
    "          ['On the road', 'Others', ''],\n",
    "          ['', 'Home', 'Others'],\n",
    "         ['', 'On the road', 'Work']]\n",
    "print(len(location))\n",
    "\n",
    "hover=[]\n",
    "# for x in range(21):\n",
    "#     hover.append([i + '<br>' + 'Day: ' + str(j)\n",
    "#                       for i, j in zip(element[x], atomic_mass[x])])\n",
    "fig = ff.create_annotated_heatmap(z, x=x, y=y, annotation_text=z_text, colorscale='viridis',\n",
    "                                   text=z_text1,hoverinfo=\"text\"\n",
    "    )\n",
    "#                                  hovertemplate ='<b>Day</b>: %{y}'+'<br><b>Time of day</b>: %{x}'+\n",
    "#     '<br><b>Location</b>: %{z_text1}<br>'\n",
    "                                 \n",
    "for i in range(len(fig.layout.annotations)):\n",
    "    fig.layout.annotations[i].font.size = 20\n",
    "\n",
    "fig.show()\n",
    "fig.write_html(\"fig8.html\")"
   ]
  },
  {
   "cell_type": "code",
   "execution_count": null,
   "metadata": {},
   "outputs": [],
   "source": []
  }
 ],
 "metadata": {
  "kernelspec": {
   "display_name": "Python 3",
   "language": "python",
   "name": "python3"
  },
  "language_info": {
   "codemirror_mode": {
    "name": "ipython",
    "version": 3
   },
   "file_extension": ".py",
   "mimetype": "text/x-python",
   "name": "python",
   "nbconvert_exporter": "python",
   "pygments_lexer": "ipython3",
   "version": "3.7.3"
  }
 },
 "nbformat": 4,
 "nbformat_minor": 2
}
