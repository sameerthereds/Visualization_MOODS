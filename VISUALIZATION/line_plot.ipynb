{
 "cells": [
  {
   "cell_type": "code",
   "execution_count": 4,
   "metadata": {},
   "outputs": [],
   "source": [
    "import matplotlib.pyplot as plt\n",
    "import numpy as np\n",
    "import matplotlib.pyplot as plt\n",
    "from matplotlib.collections import LineCollection\n",
    "from matplotlib.colors import ListedColormap, BoundaryNorm\n"
   ]
  },
  {
   "cell_type": "code",
   "execution_count": 17,
   "metadata": {},
   "outputs": [],
   "source": [
    "# Make data: I have 3 groups and 7 subgroups\n",
    "group_names=['Monday', 'Tuesday', 'Wednesday','Thursday', 'Friday', 'Saturday','Sunday']\n",
    "x=['Morning','Afternoon','Evening','Morning','Afternoon','Evening','Morning','Afternoon','Evening',\n",
    "               'Morning','Afternoon','Evening','Morning','Afternoon','Evening','Morning','Afternoon','Evening',\n",
    "               'Morning','Afternoon','Evening']\n",
    "y=[5,5,5,5,5,5,5,5,5,5,5,5,5,5,5,5,5,5,5]\n",
    "x=[5,5,5,5,5,5,5,5,5,5,5,5,5,5,5,5,5,5,5]"
   ]
  },
  {
   "cell_type": "code",
   "execution_count": 18,
   "metadata": {},
   "outputs": [
    {
     "name": "stdout",
     "output_type": "stream",
     "text": [
      "19 21\n"
     ]
    }
   ],
   "source": [
    "print(len(count),len(subgroup_names))"
   ]
  },
  {
   "cell_type": "code",
   "execution_count": 19,
   "metadata": {},
   "outputs": [],
   "source": [
    "cmap = ListedColormap(['r','b','g'])\n",
    "norm = BoundaryNorm([2000,], cmap.N)"
   ]
  },
  {
   "cell_type": "code",
   "execution_count": 20,
   "metadata": {},
   "outputs": [],
   "source": [
    "c = ['r' if a else 'g' for a in annotation]"
   ]
  },
  {
   "cell_type": "code",
   "execution_count": 21,
   "metadata": {},
   "outputs": [
    {
     "data": {
      "image/png": "[encoded data removed]",
      "text/plain": [
       "<Figure size 432x288 with 1 Axes>"
      ]
     },
     "metadata": {
      "needs_background": "light"
     },
     "output_type": "display_data"
    }
   ],
   "source": [
    "c = ['r' if a else 'g' for a in annotation]\n",
    "\n",
    "# convert time series to line segments\n",
    "lines = [((x0,y0), (x1,y1)) for x0, y0, x1, y1 in zip(x[:-1], y[:-1], x[1:], y[1:])]\n",
    "colored_lines = LineCollection(lines, colors=c, linewidths=(2,))\n",
    "\n",
    "# plot data\n",
    "fig, ax = plt.subplots(1)\n",
    "ax.add_collection(colored_lines)\n",
    "ax.autoscale_view()\n",
    "plt.show()\n"
   ]
  },
  {
   "cell_type": "code",
   "execution_count": null,
   "metadata": {},
   "outputs": [],
   "source": []
  }
 ],
 "metadata": {
  "kernelspec": {
   "display_name": "Python 3",
   "language": "python",
   "name": "python3"
  },
  "language_info": {
   "codemirror_mode": {
    "name": "ipython",
    "version": 3
   },
   "file_extension": ".py",
   "mimetype": "text/x-python",
   "name": "python",
   "nbconvert_exporter": "python",
   "pygments_lexer": "ipython3",
   "version": "3.7.3"
  }
 },
 "nbformat": 4,
 "nbformat_minor": 2
}
