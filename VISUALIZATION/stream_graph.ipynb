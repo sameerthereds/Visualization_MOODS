{
 "cells": [
  {
   "cell_type": "code",
   "execution_count": 21,
   "metadata": {},
   "outputs": [],
   "source": [
    "import altair as alt\n",
    "from vega_datasets import data\n",
    "import json\n",
    "import os, datetime, time\n",
    "import requests\n",
    "import pandas as pd"
   ]
  },
  {
   "cell_type": "code",
   "execution_count": 15,
   "metadata": {},
   "outputs": [],
   "source": [
    "source = data.unemployment_across_industries.url"
   ]
  },
  {
   "cell_type": "code",
   "execution_count": 16,
   "metadata": {},
   "outputs": [],
   "source": [
    "r = requests.get(source, allow_redirects=True)"
   ]
  },
  {
   "cell_type": "code",
   "execution_count": 18,
   "metadata": {},
   "outputs": [
    {
     "data": {
      "text/plain": [
       "185641"
      ]
     },
     "execution_count": 18,
     "metadata": {},
     "output_type": "execute_result"
    }
   ],
   "source": [
    "open('a.csv', 'wb').write(r.content)"
   ]
  },
  {
   "cell_type": "code",
   "execution_count": 38,
   "metadata": {},
   "outputs": [],
   "source": [
    "data=pd.read_csv(\"stream_graph - Sheet1.csv\")"
   ]
  },
  {
   "cell_type": "code",
   "execution_count": 39,
   "metadata": {},
   "outputs": [
    {
     "data": {
      "text/html": [
       "\n",
       "<div id=\"altair-viz-6b6d2209e9d849d4a1ef13a39da66751\"></div>\n",
       "<script type=\"text/javascript\">\n",
       "  (function(spec, embedOpt){\n",
       "    let outputDiv = document.currentScript.previousElementSibling;\n",
       "    if (outputDiv.id !== \"altair-viz-6b6d2209e9d849d4a1ef13a39da66751\") {\n",
       "      outputDiv = document.getElementById(\"altair-viz-6b6d2209e9d849d4a1ef13a39da66751\");\n",
       "    }\n",
       "    const paths = {\n",
       "      \"vega\": \"https://cdn.jsdelivr.net/npm//vega@5?noext\",\n",
       "      \"vega-lib\": \"https://cdn.jsdelivr.net/npm//vega-lib?noext\",\n",
       "      \"vega-lite\": \"https://cdn.jsdelivr.net/npm//vega-lite@4.8.1?noext\",\n",
       "      \"vega-embed\": \"https://cdn.jsdelivr.net/npm//vega-embed@6?noext\",\n",
       "    };\n",
       "\n",
       "    function loadScript(lib) {\n",
       "      return new Promise(function(resolve, reject) {\n",
       "        var s = document.createElement('script');\n",
       "        s.src = paths[lib];\n",
       "        s.async = true;\n",
       "        s.onload = () => resolve(paths[lib]);\n",
       "        s.onerror = () => reject(`Error loading script: ${paths[lib]}`);\n",
       "        document.getElementsByTagName(\"head\")[0].appendChild(s);\n",
       "      });\n",
       "    }\n",
       "\n",
       "    function showError(err) {\n",
       "      outputDiv.innerHTML = `<div class=\"error\" style=\"color:red;\">${err}</div>`;\n",
       "      throw err;\n",
       "    }\n",
       "\n",
       "    function displayChart(vegaEmbed) {\n",
       "      vegaEmbed(outputDiv, spec, embedOpt)\n",
       "        .catch(err => showError(`Javascript Error: ${err.message}<br>This usually means there's a typo in your chart specification. See the javascript console for the full traceback.`));\n",
       "    }\n",
       "\n",
       "    if(typeof define === \"function\" && define.amd) {\n",
       "      requirejs.config({paths});\n",
       "      require([\"vega-embed\"], displayChart, err => showError(`Error loading script: ${err.message}`));\n",
       "    } else if (typeof vegaEmbed === \"function\") {\n",
       "      displayChart(vegaEmbed);\n",
       "    } else {\n",
       "      loadScript(\"vega\")\n",
       "        .then(() => loadScript(\"vega-lite\"))\n",
       "        .then(() => loadScript(\"vega-embed\"))\n",
       "        .catch(showError)\n",
       "        .then(() => displayChart(vegaEmbed));\n",
       "    }\n",
       "  })({\"config\": {\"view\": {\"continuousWidth\": 400, \"continuousHeight\": 300}}, \"data\": {\"name\": \"data-62fd22be966181f1fe1d8833022c7abb\"}, \"mark\": \"area\", \"encoding\": {\"color\": {\"type\": \"nominal\", \"field\": \"Stressors\", \"scale\": {\"scheme\": \"category20b\"}}, \"x\": {\"type\": \"quantitative\", \"axis\": {\"domain\": false, \"tickSize\": 0}, \"field\": \"Day\"}, \"y\": {\"type\": \"quantitative\", \"aggregate\": \"sum\", \"axis\": null, \"field\": \"Count\", \"stack\": \"center\"}}, \"selection\": {\"selector012\": {\"type\": \"interval\", \"bind\": \"scales\", \"encodings\": [\"x\", \"y\"]}}, \"$schema\": \"https://vega.github.io/schema/vega-lite/v4.8.1.json\", \"datasets\": {\"data-62fd22be966181f1fe1d8833022c7abb\": [{\"Stressors\": \"Health\", \"Count\": 4, \"Day\": 1}, {\"Stressors\": \"Health\", \"Count\": 2, \"Day\": 2}, {\"Stressors\": \"Health\", \"Count\": 4, \"Day\": 3}, {\"Stressors\": \"Health\", \"Count\": 5, \"Day\": 4}, {\"Stressors\": \"Finance\", \"Count\": 2, \"Day\": 1}, {\"Stressors\": \"Finance\", \"Count\": 5, \"Day\": 2}, {\"Stressors\": \"Finance\", \"Count\": 1, \"Day\": 3}, {\"Stressors\": \"Health\", \"Count\": 4, \"Day\": 5}, {\"Stressors\": \"Health\", \"Count\": 2, \"Day\": 6}, {\"Stressors\": \"Health\", \"Count\": 4, \"Day\": 7}, {\"Stressors\": \"Health\", \"Count\": 5, \"Day\": 8}, {\"Stressors\": \"Health\", \"Count\": 1, \"Day\": 9}, {\"Stressors\": \"Health\", \"Count\": 2, \"Day\": 10}, {\"Stressors\": \"Finance\", \"Count\": 2, \"Day\": 4}, {\"Stressors\": \"Finance\", \"Count\": 1, \"Day\": 5}, {\"Stressors\": \"Finance\", \"Count\": 0, \"Day\": 6}, {\"Stressors\": \"Finance\", \"Count\": 9, \"Day\": 7}, {\"Stressors\": \"Personal\", \"Count\": 1, \"Day\": 1}, {\"Stressors\": \"Personal\", \"Count\": 2, \"Day\": 2}, {\"Stressors\": \"Personal\", \"Count\": 4, \"Day\": 3}, {\"Stressors\": \"Personal\", \"Count\": 1, \"Day\": 4}, {\"Stressors\": \"Personal\", \"Count\": 1, \"Day\": 5}, {\"Stressors\": \"Personal\", \"Count\": 4, \"Day\": 6}, {\"Stressors\": \"Personal\", \"Count\": 1, \"Day\": 7}, {\"Stressors\": \"Personal\", \"Count\": 1, \"Day\": 8}, {\"Stressors\": \"Personal\", \"Count\": 0, \"Day\": 9}, {\"Stressors\": \"Personal\", \"Count\": 0, \"Day\": 10}, {\"Stressors\": \"Personal\", \"Count\": 1, \"Day\": 11}, {\"Stressors\": \"Personal\", \"Count\": 4, \"Day\": 12}, {\"Stressors\": \"Personal\", \"Count\": 3, \"Day\": 13}, {\"Stressors\": \"Safety\", \"Count\": 1, \"Day\": 1}, {\"Stressors\": \"Safety\", \"Count\": 1, \"Day\": 2}, {\"Stressors\": \"Safety\", \"Count\": 2, \"Day\": 3}, {\"Stressors\": \"Safety\", \"Count\": 1, \"Day\": 4}, {\"Stressors\": \"Safety\", \"Count\": 4, \"Day\": 5}, {\"Stressors\": \"Safety\", \"Count\": 2, \"Day\": 6}, {\"Stressors\": \"Safety\", \"Count\": 1, \"Day\": 7}, {\"Stressors\": \"Safety\", \"Count\": 3, \"Day\": 8}, {\"Stressors\": \"Safety\", \"Count\": 1, \"Day\": 9}, {\"Stressors\": \"Safety\", \"Count\": 0, \"Day\": 10}, {\"Stressors\": \"Safety\", \"Count\": 0, \"Day\": 11}, {\"Stressors\": \"Safety\", \"Count\": 1, \"Day\": 12}, {\"Stressors\": \"Safety\", \"Count\": 2, \"Day\": 13}, {\"Stressors\": \"Safety\", \"Count\": 1, \"Day\": 14}, {\"Stressors\": \"Safety\", \"Count\": 1, \"Day\": 15}, {\"Stressors\": \"Transportation\", \"Count\": 1, \"Day\": 1}, {\"Stressors\": \"Transportation\", \"Count\": 2, \"Day\": 2}, {\"Stressors\": \"Transportation\", \"Count\": 1, \"Day\": 3}, {\"Stressors\": \"Transportation\", \"Count\": 1, \"Day\": 4}, {\"Stressors\": \"Transportation\", \"Count\": 0, \"Day\": 5}, {\"Stressors\": \"Transportation\", \"Count\": 0, \"Day\": 6}, {\"Stressors\": \"Transportation\", \"Count\": 0, \"Day\": 7}, {\"Stressors\": \"Transportation\", \"Count\": 0, \"Day\": 8}, {\"Stressors\": \"Transportation\", \"Count\": 0, \"Day\": 9}, {\"Stressors\": \"Health\", \"Count\": 4, \"Day\": 11}, {\"Stressors\": \"Health\", \"Count\": 2, \"Day\": 12}, {\"Stressors\": \"Health\", \"Count\": 4, \"Day\": 13}, {\"Stressors\": \"Health\", \"Count\": 5, \"Day\": 14}, {\"Stressors\": \"Finance\", \"Count\": 2, \"Day\": 8}, {\"Stressors\": \"Finance\", \"Count\": 5, \"Day\": 9}, {\"Stressors\": \"Finance\", \"Count\": 1, \"Day\": 10}, {\"Stressors\": \"Health\", \"Count\": 4, \"Day\": 15}, {\"Stressors\": \"Health\", \"Count\": 2, \"Day\": 16}, {\"Stressors\": \"Health\", \"Count\": 4, \"Day\": 17}, {\"Stressors\": \"Health\", \"Count\": 5, \"Day\": 18}, {\"Stressors\": \"Health\", \"Count\": 1, \"Day\": 19}, {\"Stressors\": \"Health\", \"Count\": 2, \"Day\": 20}, {\"Stressors\": \"Finance\", \"Count\": 2, \"Day\": 11}, {\"Stressors\": \"Finance\", \"Count\": 1, \"Day\": 12}, {\"Stressors\": \"Finance\", \"Count\": 0, \"Day\": 13}, {\"Stressors\": \"Finance\", \"Count\": 9, \"Day\": 14}, {\"Stressors\": \"Personal\", \"Count\": 1, \"Day\": 14}, {\"Stressors\": \"Personal\", \"Count\": 2, \"Day\": 15}, {\"Stressors\": \"Personal\", \"Count\": 4, \"Day\": 16}, {\"Stressors\": \"Personal\", \"Count\": 1, \"Day\": 17}, {\"Stressors\": \"Personal\", \"Count\": 1, \"Day\": 18}, {\"Stressors\": \"Personal\", \"Count\": 4, \"Day\": 19}, {\"Stressors\": \"Personal\", \"Count\": 1, \"Day\": 20}, {\"Stressors\": \"Personal\", \"Count\": 1, \"Day\": 21}, {\"Stressors\": \"Personal\", \"Count\": 0, \"Day\": 22}, {\"Stressors\": \"Personal\", \"Count\": 0, \"Day\": 23}, {\"Stressors\": \"Personal\", \"Count\": 1, \"Day\": 24}, {\"Stressors\": \"Personal\", \"Count\": 4, \"Day\": 25}, {\"Stressors\": \"Personal\", \"Count\": 3, \"Day\": 26}, {\"Stressors\": \"Safety\", \"Count\": 1, \"Day\": 16}, {\"Stressors\": \"Safety\", \"Count\": 1, \"Day\": 17}, {\"Stressors\": \"Safety\", \"Count\": 2, \"Day\": 18}, {\"Stressors\": \"Safety\", \"Count\": 1, \"Day\": 19}, {\"Stressors\": \"Safety\", \"Count\": 4, \"Day\": 20}, {\"Stressors\": \"Safety\", \"Count\": 2, \"Day\": 21}, {\"Stressors\": \"Safety\", \"Count\": 1, \"Day\": 22}, {\"Stressors\": \"Safety\", \"Count\": 3, \"Day\": 23}, {\"Stressors\": \"Safety\", \"Count\": 1, \"Day\": 24}, {\"Stressors\": \"Safety\", \"Count\": 0, \"Day\": 25}, {\"Stressors\": \"Safety\", \"Count\": 0, \"Day\": 26}, {\"Stressors\": \"Safety\", \"Count\": 1, \"Day\": 27}, {\"Stressors\": \"Safety\", \"Count\": 2, \"Day\": 28}, {\"Stressors\": \"Safety\", \"Count\": 1, \"Day\": 29}, {\"Stressors\": \"Safety\", \"Count\": 1, \"Day\": 30}, {\"Stressors\": \"Transportation\", \"Count\": 1, \"Day\": 10}, {\"Stressors\": \"Transportation\", \"Count\": 2, \"Day\": 11}, {\"Stressors\": \"Transportation\", \"Count\": 1, \"Day\": 12}, {\"Stressors\": \"Transportation\", \"Count\": 1, \"Day\": 13}, {\"Stressors\": \"Transportation\", \"Count\": 0, \"Day\": 14}, {\"Stressors\": \"Transportation\", \"Count\": 0, \"Day\": 15}, {\"Stressors\": \"Transportation\", \"Count\": 0, \"Day\": 16}, {\"Stressors\": \"Transportation\", \"Count\": 0, \"Day\": 17}, {\"Stressors\": \"Transportation\", \"Count\": 0, \"Day\": 18}, {\"Stressors\": \"Social Media\", \"Count\": 0, \"Day\": 1}, {\"Stressors\": \"Social Media\", \"Count\": 1, \"Day\": 2}, {\"Stressors\": \"Social Media\", \"Count\": 0, \"Day\": 3}, {\"Stressors\": \"Social Media\", \"Count\": 0, \"Day\": 4}, {\"Stressors\": \"Social Media\", \"Count\": 1, \"Day\": 5}, {\"Stressors\": \"Social Media\", \"Count\": 0, \"Day\": 6}, {\"Stressors\": \"Social Media\", \"Count\": 2, \"Day\": 7}, {\"Stressors\": \"Social Media\", \"Count\": 2, \"Day\": 8}, {\"Stressors\": \"Social Media\", \"Count\": 3, \"Day\": 9}, {\"Stressors\": \"Social Media\", \"Count\": 0, \"Day\": 10}, {\"Stressors\": \"Social Media\", \"Count\": 1, \"Day\": 11}, {\"Stressors\": \"Social Media\", \"Count\": 0, \"Day\": 12}, {\"Stressors\": \"Social Media\", \"Count\": 0, \"Day\": 13}, {\"Stressors\": \"Social Media\", \"Count\": 0, \"Day\": 14}, {\"Stressors\": \"Social Media\", \"Count\": 1, \"Day\": 15}, {\"Stressors\": \"Social Media\", \"Count\": 1, \"Day\": 16}, {\"Stressors\": \"Social Media\", \"Count\": 0, \"Day\": 17}, {\"Stressors\": \"Social Media\", \"Count\": 2, \"Day\": 18}, {\"Stressors\": \"Social Media\", \"Count\": 1, \"Day\": 19}, {\"Stressors\": \"Social Media\", \"Count\": 1, \"Day\": 20}, {\"Stressors\": \"Social Media\", \"Count\": 1, \"Day\": 21}, {\"Stressors\": \"Social Media\", \"Count\": 1, \"Day\": 22}, {\"Stressors\": \"Friends/Family\", \"Count\": 0, \"Day\": 1}, {\"Stressors\": \"Friends/Family\", \"Count\": 1, \"Day\": 2}, {\"Stressors\": \"Friends/Family\", \"Count\": 0, \"Day\": 3}, {\"Stressors\": \"Friends/Family\", \"Count\": 0, \"Day\": 4}, {\"Stressors\": \"Friends/Family\", \"Count\": 0, \"Day\": 5}, {\"Stressors\": \"Friends/Family\", \"Count\": 0, \"Day\": 6}, {\"Stressors\": \"Friends/Family\", \"Count\": 1, \"Day\": 7}, {\"Stressors\": \"Friends/Family\", \"Count\": 1, \"Day\": 8}, {\"Stressors\": \"Friends/Family\", \"Count\": 0, \"Day\": 9}, {\"Stressors\": \"Friends/Family\", \"Count\": 2, \"Day\": 10}, {\"Stressors\": \"Friends/Family\", \"Count\": 1, \"Day\": 11}, {\"Stressors\": \"Friends/Family\", \"Count\": 0, \"Day\": 12}, {\"Stressors\": \"Friends/Family\", \"Count\": 1, \"Day\": 13}, {\"Stressors\": \"Friends/Family\", \"Count\": 2, \"Day\": 14}, {\"Stressors\": \"Friends/Family\", \"Count\": 1, \"Day\": 15}, {\"Stressors\": \"Friends/Family\", \"Count\": 0, \"Day\": 16}, {\"Stressors\": \"Friends/Family\", \"Count\": 3, \"Day\": 17}, {\"Stressors\": \"Friends/Family\", \"Count\": 1, \"Day\": 18}, {\"Stressors\": \"Friends/Family\", \"Count\": 0, \"Day\": 19}, {\"Stressors\": \"Friends/Family\", \"Count\": 1, \"Day\": 20}, {\"Stressors\": \"Friends/Family\", \"Count\": 3, \"Day\": 21}, {\"Stressors\": \"Friends/Family\", \"Count\": 1, \"Day\": 22}, {\"Stressors\": \"Friends/Family\", \"Count\": 0, \"Day\": 23}, {\"Stressors\": \"Friends/Family\", \"Count\": 1, \"Day\": 24}, {\"Stressors\": \"Friends/Family\", \"Count\": 1, \"Day\": 25}, {\"Stressors\": \"Friends/Family\", \"Count\": 0, \"Day\": 26}, {\"Stressors\": \"Friends/Family\", \"Count\": 1, \"Day\": 27}, {\"Stressors\": \"Friends/Family\", \"Count\": 1, \"Day\": 28}, {\"Stressors\": \"Friends/Family\", \"Count\": 0, \"Day\": 29}, {\"Stressors\": \"Friends/Family\", \"Count\": 0, \"Day\": 30}, {\"Stressors\": \"Friends/Family\", \"Count\": 0, \"Day\": 31}, {\"Stressors\": \"Friends/Family\", \"Count\": 1, \"Day\": 32}, {\"Stressors\": \"Friends/Family\", \"Count\": 0, \"Day\": 33}]}}, {\"mode\": \"vega-lite\"});\n",
       "</script>"
      ],
      "text/plain": [
       "alt.Chart(...)"
      ]
     },
     "execution_count": 39,
     "metadata": {},
     "output_type": "execute_result"
    }
   ],
   "source": [
    "alt.Chart(data).mark_area().encode(\n",
    "    alt.X('Day',\n",
    "        axis=alt.Axis( domain=False, tickSize=0)\n",
    "    ),\n",
    "    alt.Y('sum(Count):Q', stack='center', axis=None),\n",
    "    alt.Color('Stressors:N',\n",
    "        scale=alt.Scale(scheme='category20b')\n",
    "    )\n",
    ").interactive()"
   ]
  },
  {
   "cell_type": "code",
   "execution_count": null,
   "metadata": {},
   "outputs": [],
   "source": []
  }
 ],
 "metadata": {
  "kernelspec": {
   "display_name": "Python 3",
   "language": "python",
   "name": "python3"
  },
  "language_info": {
   "codemirror_mode": {
    "name": "ipython",
    "version": 3
   },
   "file_extension": ".py",
   "mimetype": "text/x-python",
   "name": "python",
   "nbconvert_exporter": "python",
   "pygments_lexer": "ipython3",
   "version": "3.7.3"
  }
 },
 "nbformat": 4,
 "nbformat_minor": 2
}
