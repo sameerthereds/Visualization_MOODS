{
 "cells": [
  {
   "cell_type": "code",
   "execution_count": 1,
   "metadata": {},
   "outputs": [],
   "source": [
    "\n",
    "colors=['#0d039e', '#25149c', '#33209b', '#3e2a99', '#463497', '#4e3d96', '#544694', '#5a4f92', '#25149c', '#33209b', '#3e2a99', '#463497', '#4e3d96', '#544694', '#5a4f92', '#5f5891', '#63618f', '#67698d', '#6b728c', '#6f7b8a', '#728489', '#748d87', '#779685', '#799f84', '#7ba883', '#7db182', '#7fba81', '#81c380', '#83cc80', '#85d481', '#87dd83', '#8ae687', '#fafa00', '#f5f500', '#f0ef00', '#edea00', '#e9e400', '#e6de00', '#e4d800', '#e2d200', '#e0cc00', '#dfc600', '#dfbf00', '#dfb800', '#dfb100', '#e0aa00', '#e1a200', '#e29a00', '#e49200', '#e68900', '#e97f00', '#ec7500', '#ef6900', '#f25c00', '#f64b00', '#fa3500', '#ff0000']\n",
    "# colors = [\"#808080\",\n",
    "#          \"#c0c0c0\",\n",
    "#           \"#2f4f4f\",\n",
    "#          \"#556b2f\",\n",
    "#          \"#8b4513\",\n",
    "#          \"#228b22\",\n",
    "#          \"#191970\",\n",
    "#          \"#8b0000\",\n",
    "#          \"#808000\",\n",
    "#          \"#5f9ea0\",\n",
    "#          \"#3cb371\",\n",
    "#          \"#bdb76b\",\n",
    "#          \"#4682b4\",\n",
    "#          \"#000080\",\n",
    "#          \"#d2691e\",\n",
    "#          \"#9acd32\",\n",
    "#         \"#cd5c5c\",\n",
    "#          \"#32cd32\",\n",
    "#          \"#daa520\",\n",
    "#          \"#8fbc8f\",\n",
    "#         \"#800080\",\n",
    "#          \"#48d1cc\",\n",
    "#          \"#9932cc\",\n",
    "#          \"#ff0000\",\n",
    "#         \"#ff8c00\",\n",
    "#          \"#ffd700\",\n",
    "#          \"#6a5acd\",\n",
    "#          \"#c71585\",\n",
    "#           \"#0000cd\",\n",
    "#          \"#00ff00\",\n",
    "#          \"#00ff7f\",\n",
    "#          \"#dc143c\",\n",
    "#         \"#0000ff\",\n",
    "#          \"#a020f0\",\n",
    "#          \"#adff2f\",\n",
    "#          \"#ff6347\",\n",
    "#            \"#ff00ff\",\n",
    "#          \"#db7093\",\n",
    "#          \"#ffff54\",\n",
    "#          \"#6495ed\",\n",
    "#         \"#dda0dd\",\n",
    "#          \"#ffa07a\",\n",
    "#          \"#afeeee\",\n",
    "#          \"#ee82ee\",\n",
    "#          \"#98fb98\",\n",
    "#         \"#87cefa\",\n",
    "#          \"#7fffd4\",\n",
    "#          \"#ffe4b5\",\n",
    "#         \"#ff69b4\",\n",
    "#          \"#ffc0cb\"]"
   ]
  },
  {
   "cell_type": "code",
   "execution_count": 6,
   "metadata": {},
   "outputs": [],
   "source": [
    "colors=colors+colors+colors"
   ]
  },
  {
   "cell_type": "code",
   "execution_count": 7,
   "metadata": {},
   "outputs": [],
   "source": [
    "import pickle\n",
    "\n",
    "with open('/home/jupyter/sneupane/MOODS/pickled_files/colors.pickle', 'wb') as handle:\n",
    "    pickle.dump(colors, handle, protocol=pickle.HIGHEST_PROTOCOL)"
   ]
  },
  {
   "cell_type": "code",
   "execution_count": 8,
   "metadata": {},
   "outputs": [
    {
     "data": {
      "text/plain": [
       "342"
      ]
     },
     "execution_count": 8,
     "metadata": {},
     "output_type": "execute_result"
    }
   ],
   "source": [
    "len(colors)"
   ]
  },
  {
   "cell_type": "code",
   "execution_count": null,
   "metadata": {},
   "outputs": [],
   "source": []
  }
 ],
 "metadata": {
  "kernelspec": {
   "display_name": "CC3.3",
   "language": "python",
   "name": "cc33"
  },
  "language_info": {
   "codemirror_mode": {
    "name": "ipython",
    "version": 3
   },
   "file_extension": ".py",
   "mimetype": "text/x-python",
   "name": "python",
   "nbconvert_exporter": "python",
   "pygments_lexer": "ipython3",
   "version": "3.6.8"
  }
 },
 "nbformat": 4,
 "nbformat_minor": 2
}
