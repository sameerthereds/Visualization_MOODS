{
 "cells": [
  {
   "cell_type": "code",
   "execution_count": 1,
   "metadata": {},
   "outputs": [
    {
     "name": "stderr",
     "output_type": "stream",
     "text": [
      "ERROR:py4j.java_gateway:An error occurred while trying to connect to the Java server (127.0.0.1:34888)\n",
      "Traceback (most recent call last):\n",
      "  File \"/cerebralcortex/kessel_jupyter_virtualenv/cc33/lib64/python3.6/site-packages/py4j/java_gateway.py\", line 977, in _get_connection\n",
      "    connection = self.deque.pop()\n",
      "IndexError: pop from an empty deque\n",
      "\n",
      "During handling of the above exception, another exception occurred:\n",
      "\n",
      "Traceback (most recent call last):\n",
      "  File \"/cerebralcortex/kessel_jupyter_virtualenv/cc33/lib64/python3.6/site-packages/py4j/java_gateway.py\", line 1115, in start\n",
      "    self.socket.connect((self.address, self.port))\n",
      "ConnectionRefusedError: [Errno 111] Connection refused\n"
     ]
    }
   ],
   "source": [
    "import numpy as np\n",
    "from collections import Counter\n",
    "import matplotlib.pyplot as plt\n",
    "import pickle\n",
    "import os\n",
    "from wordcloud import WordCloud, STOPWORDS, ImageColorGenerator\n",
    "from PIL import Image\n",
    "\n",
    "def grey_color_func(word, font_size, position,orientation,random_state=None, **kwargs):\n",
    "    \n",
    "    return(\"hsl(0,0%%, %d%%)\" % np.random.randint(0,1))\n",
    "\n",
    "\n",
    "\n",
    "def create_wc(stressor_list,name,stopwords,user,week):\n",
    "    \n",
    "    mask = np.array(Image.new(\"RGB\",size=(800,800)))\n",
    "    stopwords = set(STOPWORDS)\n",
    "    font_path = '/home/jupyter/sneupane/MOODS/notebook_files/test_vis/Rubric Regular.ttf'\n",
    "    wc = WordCloud(background_color=\"white\",\n",
    "                   font_path=font_path, \n",
    "#                    max_font_size =80,min_font_size=40,\n",
    "                   color_func=grey_color_func,\n",
    "    mask = mask,\n",
    "    max_words=len(stressor_list),\n",
    "    stopwords=stopwords,\n",
    "    repeat=False)\n",
    "#     print(stressor_list)\n",
    "    wc.generate_from_frequencies(stressor_list)\n",
    "    temp_fig=\"/home/jupyter/sneupane/MOODS/output/\"+user+\"/vis/week\"+str(week)+\"/\"+\"word_cloud/\"\n",
    "    if not os.path.exists(temp_fig):\n",
    "            os.makedirs(temp_fig)\n",
    "    wc.to_file(temp_fig+user+\"_\"+name+\"_wordcloud.jpg\")\n",
    "    return wc\n",
    "\n",
    "\n",
    "def create_visualization(data_df,user_id,week_num,data_summary_user_current):\n",
    "\n",
    "    \n",
    "#     import plotly\n",
    "    stopwords = set(STOPWORDS)\n",
    "    \n",
    "    data_df=data_df.loc[data_df['Stressor'].notnull()]\n",
    "    data_df=data_df.loc[data_df['Location'].notnull()]\n",
    "    user_df=data_df.loc[data_df.user==user_id]\n",
    "    \n",
    "    if len(user_df)>0:\n",
    "        stressors=user_df[\"Stressor\"].values.tolist()\n",
    "        stressors_text=\" \".join(stressors)\n",
    "        locations=user_df[\"Location\"].values.tolist()\n",
    "        locations_text=\" \".join(locations)\n",
    "\n",
    "        dict_stressors=Counter(stressors)\n",
    "        dict_locations=Counter(locations)\n",
    "        html_list=[]\n",
    "\n",
    "        \n",
    "        html_list.append(create_wc(dict_stressors,\"stressor\",stopwords,user_id,week_num))\n",
    "\n",
    "        html_list.append(create_wc(dict_locations,\"location\",stopwords,user_id,week_num))\n",
    "        data_summary_user=data_summary_user_current[\"Word Cloud\"]\n",
    "        \n",
    "      \n",
    "\n",
    "       \n",
    "       \n",
    "        \n",
    "        \n",
    "        return \"Word_Cloud\",\"word_cloud\",data_summary_user\n",
    "    else:\n",
    "        return \"\",\"\",\"\""
   ]
  },
  {
   "cell_type": "code",
   "execution_count": null,
   "metadata": {},
   "outputs": [],
   "source": [
    "\n",
    "\n"
   ]
  }
 ],
 "metadata": {
  "kernelspec": {
   "display_name": "CC3.3",
   "language": "python",
   "name": "cc33"
  },
  "language_info": {
   "codemirror_mode": {
    "name": "ipython",
    "version": 3
   },
   "file_extension": ".py",
   "mimetype": "text/x-python",
   "name": "python",
   "nbconvert_exporter": "python",
   "pygments_lexer": "ipython3",
   "version": "3.6.8"
  }
 },
 "nbformat": 4,
 "nbformat_minor": 2
}
